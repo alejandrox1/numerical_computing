{
 "cells": [
  {
   "cell_type": "markdown",
   "metadata": {},
   "source": [
    "So burger's eqution - let's skip all the internal dialogue and go to the cool part, no need to be fancy...\n",
    "\n",
    "$$\n",
    "\\frac{\\partial u}{\\partial t}\n",
    "+ u \\frac{\\partial u}{\\partial x}\n",
    "=\n",
    "\\nu \\frac{\\partial^2 u}{\\partial^2 x}\n",
    "$$\n",
    "\n",
    "$$\n",
    "\\frac{u^{n+1}_{i} - u^{n}_{i}}{\\Delta t}\n",
    "+ u^{n}_{i} \\frac{u^{n}_{i} - u^{n}_{i-1}}{\\Delta x}\n",
    "=\n",
    "\\nu \\frac{u^{n}_{i+1} - 2u^{n}_{i} + u^{n}_{i-1}}{\\left(\\Delta x\\right)^2}\n",
    "$$\n",
    "\n",
    "and\n",
    "$$\n",
    "u^{n+1}_{i} \n",
    "= \n",
    "u^{n}_{i}\n",
    "- u^{n}_{i} \\frac{\\Delta t}{\\Delta x}\n",
    "\\left( \n",
    "    u^{n}_{i} - u^{n}_{i-1} \n",
    "\\right)\n",
    "+ \\nu\\frac{\\Delta t}{\\left(\\Delta x\\right)^2}\n",
    "\\left( \n",
    "    u^{n}_{i+1} - 2u^{n}_{i} + u^{n}_{i-1} \n",
    "\\right)\n",
    "$$"
   ]
  },
  {
   "cell_type": "markdown",
   "metadata": {},
   "source": [
    "## Initial Boundary Conditions\n",
    "\n",
    "We will use the folowing as initial conditions for this problem:\n",
    "$$\n",
    "u = -\\frac{2\\nu}{\\phi} \\frac{\\partial \\phi}{\\partial x}+ 4\n",
    "$$\n",
    "where $\\phi$ is,\n",
    "$$\n",
    "\\phi \n",
    "= \\exp\\left(\\frac{-x^2}{4\\nu}\\right) \n",
    "+ \\exp\\left(\\frac{-\\left(x-2\\pi\\right)^2}{4\\nu}\\right)\n",
    "$$\n",
    "\n",
    "Incidentely, these do have some analytical solution:\n",
    "$$\n",
    "\\phi \n",
    "= \\exp\\left(\\frac{-\\left(x-4t\\right)^2}{4\\nu\\left(t+1\\right)}\\right) \n",
    "+ \\exp\\left(\\frac{-\\left(x-4t-2\\pi\\right)^2}{4\\nu\\left(t+1\\right)}\\right)\n",
    "$$\n",
    "\n",
    "Our boundary condition will be,\n",
    "$$\n",
    "u(0) = u(2\\pi)\n",
    "$$"
   ]
  },
  {
   "cell_type": "code",
   "execution_count": 29,
   "metadata": {},
   "outputs": [],
   "source": [
    "%matplotlib inline\n",
    "import numpy as np\n",
    "import sympy as sp\n",
    "from sympy.utilities.lambdify import lambdify\n",
    "import matplotlib.pyplot as plt\n",
    "from matplotlib import animation, rc\n",
    "from IPython.display import HTML\n",
    "\n",
    "sp.init_printing(use_latex='mathjax', fontsize='30pt')"
   ]
  },
  {
   "cell_type": "code",
   "execution_count": 34,
   "metadata": {
    "scrolled": true
   },
   "outputs": [
    {
     "data": {
      "text/latex": [
       "$$e^{- \\frac{\\left(- 4 t + x - 2 \\pi\\right)^{2}}{4 \\nu \\left(t + 1\\right)}} + e^{- \\frac{\\left(- 4 t + x\\right)^{2}}{4 \\nu \\left(t + 1\\right)}}$$"
      ],
      "text/plain": [
       "                  2                2 \n",
       " -(-4⋅t + x - 2⋅π)      -(-4⋅t + x)  \n",
       " ───────────────────    ─────────────\n",
       "     4⋅ν⋅(t + 1)         4⋅ν⋅(t + 1) \n",
       "ℯ                    + ℯ             "
      ]
     },
     "execution_count": 34,
     "metadata": {},
     "output_type": "execute_result"
    }
   ],
   "source": [
    "x, nu, t = sp.symbols('x nu t')\n",
    "\n",
    "phi = (\n",
    "    sp.exp(-(x - 4*t)**2 / (4*nu*(t + 1))) \n",
    "    + sp.exp(-(x - 4*t - 2*sp.pi)**2 / (4*nu*(t + 1)))\n",
    ")\n",
    "phi"
   ]
  },
  {
   "cell_type": "code",
   "execution_count": 35,
   "metadata": {},
   "outputs": [
    {
     "data": {
      "text/latex": [
       "$$- \\frac{e^{- \\frac{\\left(- 4 t + x\\right)^{2}}{4 \\nu \\left(t + 1\\right)}}}{4 \\nu \\left(t + 1\\right)} \\left(- 8 t + 2 x\\right) - \\frac{1}{4 \\nu \\left(t + 1\\right)} \\left(- 8 t + 2 x - 4 \\pi\\right) e^{- \\frac{\\left(- 4 t + x - 2 \\pi\\right)^{2}}{4 \\nu \\left(t + 1\\right)}}$$"
      ],
      "text/plain": [
       "                           2                                         2 \n",
       "                -(-4⋅t + x)                         -(-4⋅t + x - 2⋅π)  \n",
       "                ─────────────                       ───────────────────\n",
       "                 4⋅ν⋅(t + 1)                            4⋅ν⋅(t + 1)    \n",
       "  (-8⋅t + 2⋅x)⋅ℯ                (-8⋅t + 2⋅x - 4⋅π)⋅ℯ                   \n",
       "- ─────────────────────────── - ───────────────────────────────────────\n",
       "          4⋅ν⋅(t + 1)                         4⋅ν⋅(t + 1)              "
      ]
     },
     "execution_count": 35,
     "metadata": {},
     "output_type": "execute_result"
    }
   ],
   "source": [
    "phiprime = phi.diff(x)\n",
    "phiprime"
   ]
  },
  {
   "cell_type": "code",
   "execution_count": 36,
   "metadata": {
    "collapsed": true
   },
   "outputs": [],
   "source": [
    "u = -2 * nu * (phiprime / phi) + 4\n",
    "ufunc = lambdify((t, x, nu), u)"
   ]
  },
  {
   "cell_type": "markdown",
   "metadata": {},
   "source": [
    "# Computation"
   ]
  },
  {
   "cell_type": "code",
   "execution_count": 61,
   "metadata": {},
   "outputs": [],
   "source": [
    "###variable declarations\n",
    "nu = .07\n",
    "L = 2.0\n",
    "nx = 101\n",
    "dx = L * np.pi / (nx - 1)\n",
    "nt = 100\n",
    "dt = dx * nu\n",
    "\n",
    "x = np.linspace(0, L*np.pi, nx)\n",
    "un = np.empty(nx)\n",
    "\n",
    "t = 0\n",
    "u = np.asarray([ufunc(t, x0, nu) for x0 in x])"
   ]
  },
  {
   "cell_type": "code",
   "execution_count": 62,
   "metadata": {},
   "outputs": [
    {
     "data": {
      "image/png": "[encoded data removed]",
      "text/plain": [
       "<matplotlib.figure.Figure at 0x7f1ecf5c9198>"
      ]
     },
     "metadata": {},
     "output_type": "display_data"
    }
   ],
   "source": [
    "plt.figure(figsize=(10, 4), dpi=100)\n",
    "plt.plot(x, u, marker='o', lw=2)\n",
    "plt.xlim([0, 2 * np.pi])\n",
    "plt.ylim([0, 10]);"
   ]
  },
  {
   "cell_type": "code",
   "execution_count": 63,
   "metadata": {
    "collapsed": true
   },
   "outputs": [],
   "source": [
    "for n in range(nt):\n",
    "    un = u.copy()\n",
    "    for i in range(1, nx-1):\n",
    "        u[i] = un[i] - un[i]*(dt/dx)*(un[i] - un[i-1]) +\\\n",
    "                    nu*(dt/dx**2)*(un[i+1] - 2*un[i] + un[i-1])\n",
    "            \n",
    "    # PBC\n",
    "    u[0] = un[0] - un[0]*(dt/dx)*(un[0] - un[-2]) +\\\n",
    "                nu*(dt/dx**2)*(un[1] - 2*un[0] + un[-2])\n",
    "    u[-1] = u[0]"
   ]
  },
  {
   "cell_type": "code",
   "execution_count": 64,
   "metadata": {},
   "outputs": [],
   "source": [
    "u_analytical = np.asarray([ufunc(nt*dt, xi, nu) for xi in x])"
   ]
  },
  {
   "cell_type": "code",
   "execution_count": 65,
   "metadata": {},
   "outputs": [
    {
     "data": {
      "image/png": "[encoded data removed]",
      "text/plain": [
       "<matplotlib.figure.Figure at 0x7f1ecf5daf98>"
      ]
     },
     "metadata": {},
     "output_type": "display_data"
    }
   ],
   "source": [
    "plt.figure(figsize=(10, 4), dpi=100)\n",
    "plt.plot(x,u, marker='o', lw=2, label='Computational')\n",
    "plt.plot(x, u_analytical, label='Analytical')\n",
    "plt.xlim([0, 2 * np.pi])\n",
    "plt.ylim([0, 10])\n",
    "plt.legend();"
   ]
  },
  {
   "cell_type": "code",
   "execution_count": 97,
   "metadata": {},
   "outputs": [],
   "source": [
    "###variable declarations\n",
    "nu = .07\n",
    "L = 2.0\n",
    "nx = 101\n",
    "dx = L * np.pi / (nx - 1)\n",
    "nt = 800\n",
    "dt = dx * nu\n",
    "\n",
    "x = np.linspace(0, L*np.pi, nx)\n",
    "un = np.empty(nx)\n",
    "\n",
    "t = 0\n",
    "u = np.asarray([ufunc(t, x0, nu) for x0 in x])\n",
    "\n",
    "fig, ax = plt.subplots()\n",
    "ax.set_xlim((0, L*np.pi))\n",
    "ax.set_ylim((0, 8))\n",
    "line, = ax.plot([], [], lw=2, label=\"label\")\n",
    "leg = ax.legend(loc=2, prop={'size': 10})\n",
    "\n",
    "def animate(n):\n",
    "    un = u.copy()\n",
    "    for i in range(1, nx-1):\n",
    "        u[i] = un[i] - un[i]*(dt/dx)*(un[i] - un[i-1]) +\\\n",
    "                    nu*(dt/dx**2)*(un[i+1] - 2*un[i] + un[i-1])\n",
    "            \n",
    "    # PBC\n",
    "    u[0] = un[0] - un[0]*(dt/dx)*(un[0] - un[-2]) +\\\n",
    "                nu*(dt/dx**2)*(un[1] - 2*un[0] + un[-2])\n",
    "    u[-1] = u[0]\n",
    "    \n",
    "    line.set_data(np.linspace(0, L*np.pi, nx), u)\n",
    "    leg.texts[0].set_text(\"t = {}\".format(n))\n",
    "    return line, leg\n",
    "\n",
    "# Analytical solution\n",
    "u_analytical = np.asarray([ufunc(100*dt, xi, nu) for xi in x])\n",
    "ax.plot(x, u_analytical, label='Analytical')\n",
    "\n",
    "anim = animation.FuncAnimation(fig, animate, frames=nt, interval=50, blit=True)\n",
    "plt.close()"
   ]
  },
  {
   "cell_type": "code",
   "execution_count": null,
   "metadata": {
    "collapsed": true
   },
   "outputs": [],
   "source": [
    "HTML(anim.to_html5_video())"
   ]
  },
  {
   "cell_type": "code",
   "execution_count": null,
   "metadata": {
    "collapsed": true
   },
   "outputs": [],
   "source": []
  }
 ],
 "metadata": {
  "kernelspec": {
   "display_name": "Python 3",
   "language": "python",
   "name": "python3"
  },
  "language_info": {
   "codemirror_mode": {
    "name": "ipython",
    "version": 3
   },
   "file_extension": ".py",
   "mimetype": "text/x-python",
   "name": "python",
   "nbconvert_exporter": "python",
   "pygments_lexer": "ipython3",
   "version": "3.6.4"
  }
 },
 "nbformat": 4,
 "nbformat_minor": 2
}
