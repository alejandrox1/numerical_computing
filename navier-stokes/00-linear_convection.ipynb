{
 "cells": [
  {
   "cell_type": "markdown",
   "metadata": {},
   "source": [
    "# Linear convection with a step-function initial condition (IC) and appropiate boundary conditions (BCs)"
   ]
  },
  {
   "cell_type": "markdown",
   "metadata": {},
   "source": [
    "## Linear Convection\n",
    "\n",
    "$$\n",
    "\\frac{\\partial u}{\\partial t} + c \\frac{\\partial u}{\\partial x} = 0\n",
    "$$\n",
    "\n",
    "Represents the propagation of a wave with speed $c$, without change of shape.\n",
    "\n",
    "Let the initial condition be $u(x,0) = u_0 (x)$.\n",
    "Then the exact solution to the equation is $u(x,t) = u_o (x - ct)$."
   ]
  },
  {
   "cell_type": "markdown",
   "metadata": {},
   "source": [
    "Discretize the linear convection equation in both time and space using a forward difference scheme for the time derivative and a backward difference scheme for the space derivative.\n",
    "\n",
    "Discretize the spatial coordinate $x$ into points which we will index from $i = 0$ to $N$.\n",
    "$n$ will index the time step.\n",
    "\n",
    "One can easily arive at the discrete version of our linear convection equation:\n",
    "$$\n",
    "\\frac{u_{i}^{n+1} - u_{i}^{n}}{\\Delta t} + c \\frac{u_{i}^{n} - u_{i-1}^{n}}{\\Delta x} = 0\n",
    "$$"
   ]
  },
  {
   "cell_type": "markdown",
   "metadata": {},
   "source": [
    "Given initial conditions, we only need to solve for $u_{i}^{n+1}$:\n",
    "\n",
    "$$\n",
    "u_{i}^{n+1} =  u_{i}^{n} - c \\frac{\\Delta t}{\\Delta x} \\left( u_{i}^{n} - u_{i-1}^{n} \\right)\n",
    "$$"
   ]
  },
  {
   "cell_type": "code",
   "execution_count": 2,
   "metadata": {
    "collapsed": true
   },
   "outputs": [],
   "source": [
    "import numpy as np\n",
    "import matplotlib.pyplot as plt\n",
    "import time\n",
    "import sys\n",
    "%matplotlib inline"
   ]
  },
  {
   "cell_type": "code",
   "execution_count": 18,
   "metadata": {
    "collapsed": true
   },
   "outputs": [],
   "source": [
    "# Spatial domain (n units of length).\n",
    "L = 2.0\n",
    "# Number of spatial grid points.\n",
    "nx = 41\n",
    "dx = L / (nx -1)\n",
    "\n",
    "# Number of time steps.\n",
    "nt = 25\n",
    "dt = 0.025\n",
    "\n",
    "# Wave speed.\n",
    "c = 1.0"
   ]
  },
  {
   "cell_type": "code",
   "execution_count": 19,
   "metadata": {},
   "outputs": [
    {
     "data": {
      "image/png": "[encoded data removed]",
      "text/plain": [
       "<matplotlib.figure.Figure at 0x7fb195b93470>"
      ]
     },
     "metadata": {},
     "output_type": "display_data"
    }
   ],
   "source": [
    "# Initial conditions - u = 2, 0.5 < x < 1; u = 1 elsewhere.\n",
    "u = np.ones(nx)\n",
    "u[int(0.5 / dx): int(1/dx+1)] = 2\n",
    "\n",
    "plt.ylabel(r\"$u$\")\n",
    "plt.xlabel(r\"$x$\")\n",
    "plt.plot(np.linspace(0, 2, nx), u)\n",
    "plt.show()"
   ]
  },
  {
   "cell_type": "markdown",
   "metadata": {},
   "source": [
    "## Discretization of the linear convection equation using a finite difference scheme"
   ]
  },
  {
   "cell_type": "code",
   "execution_count": 20,
   "metadata": {},
   "outputs": [],
   "source": [
    "# Initialize tmp array - soltn for the nex time step.\n",
    "# Same dimentions as array u.\n",
    "un = np.ones(nx)\n",
    "\n",
    "for n in range(nt):\n",
    "    # cp existing values of u in un.\n",
    "    # un will hold the values at timestep n, u at n+1.\n",
    "    un = u.copy()\n",
    "    for i in range(1,nx):\n",
    "        u[i] = un[i] - c *(dt/dx)*(un[i] - un[i-1])"
   ]
  },
  {
   "cell_type": "code",
   "execution_count": 21,
   "metadata": {},
   "outputs": [
    {
     "data": {
      "text/plain": [
       "[<matplotlib.lines.Line2D at 0x7fb195fbe908>]"
      ]
     },
     "execution_count": 21,
     "metadata": {},
     "output_type": "execute_result"
    },
    {
     "data": {
      "image/png": "[encoded data removed]",
      "text/plain": [
       "<matplotlib.figure.Figure at 0x7fb195f86198>"
      ]
     },
     "metadata": {},
     "output_type": "display_data"
    }
   ],
   "source": [
    "plt.plot(np.linspace(0, 2, nx), u)"
   ]
  },
  {
   "cell_type": "code",
   "execution_count": null,
   "metadata": {
    "collapsed": true
   },
   "outputs": [],
   "source": []
  }
 ],
 "metadata": {
  "kernelspec": {
   "display_name": "Python 3",
   "language": "python",
   "name": "python3"
  },
  "language_info": {
   "codemirror_mode": {
    "name": "ipython",
    "version": 3
   },
   "file_extension": ".py",
   "mimetype": "text/x-python",
   "name": "python",
   "nbconvert_exporter": "python",
   "pygments_lexer": "ipython3",
   "version": "3.6.4"
  }
 },
 "nbformat": 4,
 "nbformat_minor": 2
}
