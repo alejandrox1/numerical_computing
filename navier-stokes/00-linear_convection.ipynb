{
 "cells": [
  {
   "cell_type": "markdown",
   "metadata": {},
   "source": [
    "# Linear convection with a step-function initial condition (IC) and appropiate boundary conditions (BCs)"
   ]
  },
  {
   "cell_type": "markdown",
   "metadata": {},
   "source": [
    "## Linear Convection (Advection)\n",
    "\n",
    "$$\n",
    "\\frac{\\partial u}{\\partial t} + c \\frac{\\partial u}{\\partial x} = 0\n",
    "$$\n",
    "\n",
    "Represents the propagation of a wave with speed $c$, without change of shape.\n",
    "\n",
    "Let the initial condition (some arbitrary profile) be $u(x,0) = u_0 (x)$.\n",
    "Then the exact solution to the equation is $u(x,t) = u_o (x - ct)$.\n",
    "\n",
    "If we let the system time evolve, after time $t$ we will simply get our initial profile shifted by an ammount $ct$.\n",
    "This can be seen as a wave propagation equation with $u$ being the wave amplitude, and $c$ being the phase propagation speed."
   ]
  },
  {
   "cell_type": "markdown",
   "metadata": {},
   "source": [
    "Discretize the linear convection equation in both time and space using a forward difference scheme for the time derivative and a backward difference scheme for the space derivative.\n",
    "\n",
    "Discretize the spatial coordinate $x$ into points which we will index from $i = 0$ to $N$.\n",
    "$n$ will index the time step.\n",
    "\n",
    "One can easily arive at the discrete version of our linear convection equation:\n",
    "$$\n",
    "\\frac{u_{i}^{n+1} - u_{i}^{n}}{\\Delta t} + c \\frac{u_{i}^{n} - u_{i-1}^{n}}{\\Delta x} = 0\n",
    "$$"
   ]
  },
  {
   "cell_type": "markdown",
   "metadata": {},
   "source": [
    "Given initial conditions, we only need to solve for $u_{i}^{n+1}$:\n",
    "\n",
    "$$\n",
    "u_{i}^{n+1} =  u_{i}^{n} - c \\frac{\\Delta t}{\\Delta x} \\left( u_{i}^{n} - u_{i-1}^{n} \\right)\n",
    "$$"
   ]
  },
  {
   "cell_type": "code",
   "execution_count": 1,
   "metadata": {
    "collapsed": true
   },
   "outputs": [],
   "source": [
    "%matplotlib inline\n",
    "import numpy as np\n",
    "import matplotlib.pyplot as plt\n",
    "import time\n",
    "import sys"
   ]
  },
  {
   "cell_type": "code",
   "execution_count": 2,
   "metadata": {
    "collapsed": true
   },
   "outputs": [],
   "source": [
    "# Spatial domain (n units of length).\n",
    "L = 2.0\n",
    "# Number of spatial grid points.\n",
    "nx = 41\n",
    "dx = L / (nx -1)\n",
    "\n",
    "# Number of time steps.\n",
    "nt = 25\n",
    "dt = 0.025\n",
    "\n",
    "# Wave speed.\n",
    "c = 1.0"
   ]
  },
  {
   "cell_type": "code",
   "execution_count": 7,
   "metadata": {},
   "outputs": [
    {
     "data": {
      "image/png": "[encoded data removed]",
      "text/plain": [
       "<matplotlib.figure.Figure at 0x7f212ad04978>"
      ]
     },
     "metadata": {},
     "output_type": "display_data"
    }
   ],
   "source": [
    "# Initial conditions - u = 2, 0.5 < x < 1; u = 1 elsewhere.\n",
    "u = np.ones(nx)\n",
    "u[int(0.5 / dx): int(1/dx+1)] = 2\n",
    "\n",
    "fig = plt.figure(figsize=(15,5))\n",
    "ax = fig.add_subplot(121)\n",
    "\n",
    "ax.set_ylabel(r\"$u$\")\n",
    "ax.set_xlabel(r\"$x$\")\n",
    "ax.plot(np.linspace(0, 2, nx), u)\n",
    "plt.show()"
   ]
  },
  {
   "cell_type": "markdown",
   "metadata": {},
   "source": [
    "## Discretization of the linear convection equation using a finite difference scheme"
   ]
  },
  {
   "cell_type": "code",
   "execution_count": 8,
   "metadata": {
    "collapsed": true
   },
   "outputs": [],
   "source": [
    "# Initialize tmp array - soltn for the nex time step.\n",
    "# Same dimentions as array u.\n",
    "un = np.ones(nx)\n",
    "\n",
    "for n in range(nt):\n",
    "    # cp existing values of u in un.\n",
    "    # un will hold the values at timestep n, u at n+1.\n",
    "    un = u.copy()\n",
    "    for i in range(1,nx):\n",
    "        u[i] = un[i] - c *(dt/dx)*(un[i] - un[i-1])"
   ]
  },
  {
   "cell_type": "code",
   "execution_count": 9,
   "metadata": {},
   "outputs": [
    {
     "data": {
      "image/png": "[encoded data removed]",
      "text/plain": [
       "<matplotlib.figure.Figure at 0x7f212ad04f98>"
      ]
     },
     "metadata": {},
     "output_type": "display_data"
    }
   ],
   "source": [
    "fig = plt.figure(figsize=(15, 5))\n",
    "ax = fig.add_subplot(121)\n",
    "\n",
    "ax.plot(np.linspace(0, 2, nx), u)\n",
    "plt.show()"
   ]
  },
  {
   "cell_type": "code",
   "execution_count": 29,
   "metadata": {},
   "outputs": [
    {
     "data": {
      "text/html": [
       "<video width=\"432\" height=\"288\" controls autoplay loop>\n",
       "  <source type=\"video/mp4\" src=\"data:video/mp4;base64,AAAAHGZ0eXBNNFYgAAACAGlzb21pc28yYXZjMQAAAAhmcmVlAAAeN21kYXQAAAKtBgX//6ncRem9\n",
       "5tlIt5Ys2CDZI+7veDI2NCAtIGNvcmUgMTQ4IHIyNjQzIDVjNjU3MDQgLSBILjI2NC9NUEVHLTQg\n",
       "QVZDIGNvZGVjIC0gQ29weWxlZnQgMjAwMy0yMDE1IC0gaHR0cDovL3d3dy52aWRlb2xhbi5vcmcv\n",
       "eDI2NC5odG1sIC0gb3B0aW9uczogY2FiYWM9MSByZWY9MyBkZWJsb2NrPTE6MDowIGFuYWx5c2U9\n",
       "MHgzOjB4MTEzIG1lPWhleCBzdWJtZT03IHBzeT0xIHBzeV9yZD0xLjAwOjAuMDAgbWl4ZWRfcmVm\n",
       "PTEgbWVfcmFuZ2U9MTYgY2hyb21hX21lPTEgdHJlbGxpcz0xIDh4OGRjdD0xIGNxbT0wIGRlYWR6\n",
       "b25lPTIxLDExIGZhc3RfcHNraXA9MSBjaHJvbWFfcXBfb2Zmc2V0PS0yIHRocmVhZHM9OSBsb29r\n",
       "YWhlYWRfdGhyZWFkcz0xIHNsaWNlZF90aHJlYWRzPTAgbnI9MCBkZWNpbWF0ZT0xIGludGVybGFj\n",
       "ZWQ9MCBibHVyYXlfY29tcGF0PTAgY29uc3RyYWluZWRfaW50cmE9MCBiZnJhbWVzPTMgYl9weXJh\n",
       "bWlkPTIgYl9hZGFwdD0xIGJfYmlhcz0wIGRpcmVjdD0xIHdlaWdodGI9MSBvcGVuX2dvcD0wIHdl\n",
       "aWdodHA9MiBrZXlpbnQ9MjUwIGtleWludF9taW49NSBzY2VuZWN1dD00MCBpbnRyYV9yZWZyZXNo\n",
       "PTAgcmNfbG9va2FoZWFkPTQwIHJjPWNyZiBtYnRyZWU9MSBjcmY9MjMuMCBxY29tcD0wLjYwIHFw\n",
       "bWluPTAgcXBtYXg9NjkgcXBzdGVwPTQgaXBfcmF0aW89MS40MCBhcT0xOjEuMDAAgAAADlZliIQA\n",
       "Ef/+94gfMstp+TrXchHnrS6tH1DuRnFepL3+IAAAAwAWnK7X94sfrgA8w5dkoJmXEWP5a0brb2qc\n",
       "wNYH/kANMt8597/mgA6Nock18xSITvoljStYlE0HhMc99JmYejdvieQABLOWMTxXuVX5gqk0zCDv\n",
       "2y/XeQV9fyNr4ancvgyOwRhhpzwcEL44KszBqp1iyv2Joq1sES0rAdw9l3wH4TuTeyPevycwuL4e\n",
       "kXRX+FHw2s/LErSCaOo2bNfUZ6KTTTYdk/BEYOr/5Ao30WbxjqLgX1WnwNcxXm1DIMRMgASxPpfZ\n",
       "EXRhnwDbR30WkYRXMqpwwAuMb3A1DT93sMdkLoptdk6wAgZsq8WqldBAAJVTc+qW6//kUUJ9V8eL\n",
       "WALSZyrMkCK4ppWS+AkitpRaUAS4h/ASiVTKLYB53k0fZvZk24kIQh3eQfPrbhoMZ7lamauAFI3T\n",
       "QhO/aVqCDtFnu/d2Zp1P2Puk/vyHZFGWqhx30tSIKXoCjk7qN9dvAaIFDA/0J/4J0Bqxomxu9ByU\n",
       "QS2P9fTxpAxF6v/hMen9HSmMHgrq7I1d+oYgGCd0TfqZxTBtR/bfrjQaq++c3safBS0UB0JBChQW\n",
       "02EJBnWyrRr1WB7LzMJrjcpw1gamd+g1ZAr/fx8GXBVoEus56ompYV5fvgGjD0DIMDJOv3QGL6Fn\n",
       "fmFB7/A/nwiB9s98C9xTtMhY4VyGx7vtWZpaKKznKjVAEMJQa3ZneUyu+4iGMJfliQN0NFKpOize\n",
       "URT9MfuuB/wrY5UkNff7hPjEMQS2F3F5Bb/zBqEohQM0yijv7VoBOZ5YJyxkMcpijFd5cXXDIfQ2\n",
       "XCbTdgo8fQxhqFA6XJpzyQiDlWY2lOyClSvmOwtfSzhw7I1/ScD0LOXVFttZcRvrS7FB52aH+qg4\n",
       "V5HWPahXhPYH3Z+pW1OvLAerx04ILQsqTdSXJQ8MWiwLSvAh2oWiNb+Jcu2mmixV4jZ8CSW8mce4\n",
       "hAdERz9MSeAqiskchV0G1fOAS6XPkhztr4xxWy/znK7LCvh3mKY3m3N2fvpJvVHp9lPoy+RRlEos\n",
       "qsEvdVTpHQEUaGiFHnJIfPqB76woJo0iojUpjl3OXHTyDMgQBw6kTNExQ+abQS8ANy446fXCSYbb\n",
       "N/wGoaU80rsc+DJ4cn8j7+YnZsrpbue4FsDvTx8J+yeW8xdLt/rSxPUVUuHVOdmHAsS40RgqLiiR\n",
       "y/EE7EYlx4Rna7ASE8N1NYtoNIl87bdJdU42RnFVqZHKpAIuTo8p3IsvqzIw+MorhQ7Hnf8hJ9My\n",
       "Qd/JzV0f2FJAZao/KGtNG/UCQdFpK3nnkJMO1FIqWiptqC7ITh7aO/64fH49zhNEEsyX3wN6Pau/\n",
       "+KcAYDgEm2Jg7EPV8MkP7WpXyW6Vz6Y/2OO1iFkGVoH/QEDMLNrNI5+xmlanq+O/y4b+JknwNXWs\n",
       "XoCCu9R796mmj5E2AKPRx6x2xzGCRPQy9N65qMx9T/cBIPCoCHIJumhc6SydS6UNMJamjjNam6R6\n",
       "i7zs1zA8eb9S1WCJ3fDL3CjtX0BVhez20fxohE7EE/qPyWMDdWnsPpcXY8C6nqI2bv/iJe4jW/i0\n",
       "S0P7G+/zHnTdFAc8Ofu9AkCubpew99BM//4lmf5gJfouHhXZnVMgyx7uR3mAuUuJP4rCVP0rLWGH\n",
       "6lYJvrK8P0koLQE3GWr25BZe4w2ZvjJZ6udzkN1cMx+nolut/VZwf7yzFybGk/1pq1Bp2yuq9Qig\n",
       "kLhf+7qN22LUgzOspEEBDTenKOyTndZ3u1hfh+CuUt2VYQm2J9un6rf6pvabI1PJzRe3byWALEaD\n",
       "RSbnST2smuefnvtp11V1yzDCQ0np8lU8wgYQcDrL2ZFyQS5fbuq+OWmI6UUn+LRAPismvNAlxaOz\n",
       "8DISfyuR7tQMtiW6bEtdIza1nU7zP51AAQ6uCbri9x35EtfPtpi/Kdy6L0XUUPZGSqTFmYFVtgpY\n",
       "TniiB6JD6I+BKhXFSJ0Rypbx08iUyD27OXv4BdWjKy8qiwNDu914fzqcpeKzSIPvkQvHZAerWMZt\n",
       "vDkLtciYUHk0Sw7wFCHTBxRWaVJ60fk7sbVqfO5/xfwCcDgC6DLUu1IYQd8kWliyb/tYGe2O7wIh\n",
       "5hQFNhnF7kpI5PE2h4cTNp3IPMDZu3EbpdmIt/AExq5sJrXY9V9ZUF0Xf6cps/pvZXp0mt+jp/tH\n",
       "VfcNNz7p7fUpSgCgQkedlkd8HluNiOlLgnfZQDp7aqMSPHhPpF9EcloGrICwhVTmsw9cWTL7zwfK\n",
       "cf01UoBA8nVAziWZHVi63APqfqO/Hrbfwr/+Pp2aMiUlWPB8pxrR7D6zg9I7jY1eHUy6yAb9repO\n",
       "ymZtYomBwnMWHRxR7kQffNsYFmcraoQgf/VC81jwpC4iV2NnaFN7YhBopvWamXWQB+NAHyeK0aks\n",
       "poKzb9pbkucfwtC///wFiPcJUVptkv70XP99jldDAPnT517uwseBQA7J8MWy72gJTo4a0wgUgxx+\n",
       "ALFT+qceBgNEgW7oXJPOn7KkK01XblAMD9pJF27QrEAuiw2GzOMBZVv1rKI9N8sgThVOcuawszGX\n",
       "AThBTrRc9rYcpOdZEBoy4Fz9j7+WtYXipx/SGI3MKN16183oUazIG4C9XijLHw0/XFFbqkV6eZxD\n",
       "4bZl+kzuX+s58eYaVNpVp2iIsz5VXzqIq+7VBl5uCa+6VjNIFUQ4uO233wIu8sEBCaO4SFkAixrr\n",
       "y7zHGohdAcgbeTSUWVQOmCQQHD7rpQs1nixxubWF1jmr65+BfXKK1jSxcxfgVO/BMx9JM/gTgzn1\n",
       "vHiYKpn7G7oG/6BYawkLjPWeyEpT4T5CwCYoR0u/JNU1ldXu3Ws0BRGhh2mvOlwR9UTYgN+HSPqV\n",
       "NywQzjaE1jDpRscnL5TmokNHnigW8KDuDy2DLKql0fSp+M29pO/KUSh8woMGAaVYzN0weMF6IxAX\n",
       "eMSa/K7HzpY6yFBVoKSeAGCMNw3+3paVonJvKoV4GIxqq+1INkagKBbtzuhxKJEb8rxSAj/wql+d\n",
       "EJ5nFTTpUECmV/GZl6431su1vtkPrjV8TeabE21OJtXhz9IO6ZjfLpXrXGkjAyr5PH74uZS9TbfP\n",
       "NQ8vNblzCsqKI4c82j6BVJMfnnLH66yWJl76n0L313HP8VNqGq4igo+1bLU1N/K59psVVVPrvMw4\n",
       "eYs7/I6rqoXLDLVm/y2dgrSKGRP2Nb+LXKT9EzWJRB6GK4INRdZto8JLBAGbYMN4yJgg+yhHdGJw\n",
       "iFwtEyCJsWggulxyhFnd2hAIC+QT/DOtxMOM1FzUt2+nYMCMuU92TYBLjlCS8b99e4aoJbM/4HKa\n",
       "4a7v+zNtuvrK9jpAgyb/HglMbRlT/2Be/aL+B+SGcXDeI+b2S+LUxc6PkbfBqD8QJ19QsxnQtMqn\n",
       "oWxRW6M0HjkdxgFw+pO1Ykf+QnLlsCai6203wnRU7zW3LvqSH6u0XLZ7s5eFB/Nj4NYd7bD2Qc5B\n",
       "k+Fx8bo8wbzKzhy5bZCISvpmpIWSHEKjhcKUxIuAGaijeJNRUs8hbLsg+iGd0uK+1KxoOhxACEF+\n",
       "JybE9bfNDJiP6pZnCNqgUeScQmox7xuLmKre3vJ3hub2WucwM7XoPuqrrcE9Hc23LA0tCL69nCtE\n",
       "mK/u+/DzGWk66mu1/RzZgR+JA9o4et7jLiJmaFtinXWuoPZ3T+WOjN4J6isGZ9Vc35UYvbkLZTBu\n",
       "sIT+yI4J3L2HmmVuOnniovm9GW5lMjZXlrkGzZA4qSV/xu6TA33sqIdByAZqkl3HUFJ++7h0t0g0\n",
       "Udg84ZBSXVoZT6ZmUMN0rU5udUdoYV3qpKEMImMuxUVtcGeerHN06iAE+62da0NXpWxuH4pUqpGw\n",
       "OZTUILEFU2B9puI0/JaaFPvxg4/gRTG/u2WH9sbSQdFVdpc5vK2v321pZPeDiFZL8nlrCRp7Jpag\n",
       "uS/g3chdoEW54zjIpbijSZFrt8Dxt/DVK1ahZWc4VnHcLrPbKlOgzUKX5J8p2ms7sqBWmnSwTKsv\n",
       "wMq1hkPYsKr6GpVyPCpZsZwH67DWqkYosJXkvnKJBOWtUrtHRkpGOqRs6oK+9+5916iDx4Ez/ZmO\n",
       "APmcbGKvRuQzTzntS908FafLLBSR7Xoa5PT/XsuGOns9ObaVXoZIAotFMRHBxMiGapgHt6OZxecu\n",
       "eKzmA+1waOmNLPythbLWoN8R8JUNTTPNotEY8ZItlLse6DFNDUs7rfaqi+PsAYXoXh96MOsyaCLp\n",
       "YL6RYq4OPSYn95BwH+1roYrlOOBHuDBUX7ilXLUkKdZr/l+IlrvQLJ68Dv4TN5l6l1CFuWBT1cUQ\n",
       "MYCw1sjGgWlTx2I+OnQDZMOkWqylT/MZXi2+mRHEne6bXpjKmnzjneUou38aE39qBqdRMrn1C1K6\n",
       "PeOuxQ1I5cM5FwW565VlL0fNp86fvFI8QDRMUANE8h14B52DqtyrbN49fpykC8FyYcJNEjqtAfuA\n",
       "KEKA1hw/QDMHIx0OyUyh7sPMqlfY5Clybm7+W/9VvVdow1upouWR4JA5Arp4eqLJzp04+BHTQvFQ\n",
       "vv7+V2DX1BNZHJUeg8KfiK4effa9RwwjTrDaWoqXX/SLejmAqTDQdnh1GLZ7/Vkxp+olUP/gJSPg\n",
       "XYrqhrPx/WCj7n1hIvFmlmM/nhRquusOtW1mBLgbGX3f2zFlPNMr5Imuuv2viDS/5jIVCTREH8lK\n",
       "miyub+Nnf/+a3eDZBwEmt5FoHueSg5qtbA/1x6j/3/KEvpCMH9EuaLWXaPqhDLB58blpX1pvlRPZ\n",
       "XO1AZD4uPQvS/2miBdmvBP0zXgAqtlOrn9zvUXkFmCOC6CgIYqPW2o2qTlkfJp2pX8aN1jk5i9YA\n",
       "O8m/gAAP6uSIAPjcTlMCInHTAAABvUGaIWxBH/61KoAGKsfrXzshrPAALlAZPWor9TS4O03Wxbjo\n",
       "fk0+lC1XI+JFE5vaiHh/roqyQKqJjICPH0mRI+C2vx6402llTWKBBTTFgFou27wb6+N5pQT64Bcs\n",
       "2PU3lrEUAeA0KHNrS5IANNBgaV22ZtdkohOIH9APK9B+nhkDnoMkp+LvUPS7ThXitFb/3Ex3Nrbc\n",
       "P/YpjoQxY77mDYx3BBaKP+OtxPDMuw7ECB6YaUcUo8RmMHaAr0GaawtWW2SAojKVjeg5c4tVokKV\n",
       "bcELM0yJx0c6Eg/CD0sMwEvzRioau6FVA3ORVGCagcAH7tx6kj//RlUu5MhaK8hwH8hfQY7lo1Vw\n",
       "iSEFY/lUsYmNAcYpdN06NRVMDMePOai+pRUz8u4bWR4bPiZGbQZf6Jyu1SOfwjFRE0sDmnjpkCrn\n",
       "InV/rLBctrTLR2jFrSqC5fU9QwUUoofTcpovevfGn7yO4G44KOtiKcSttgwO+cLvgzqA+jgOTte9\n",
       "yaT2/H8adAAHN74m53xSesdgvrnTGbJ8ic02ytMyapknVJsORTMezwSDvp3EF9NXUpP2pR+Im3cY\n",
       "msxP8uwVswacMGAAAACIQZpCPCGTKYQR//61KoAGKzP2rQARM+xQ9ELNvNyfoZGjSFJVLJ7t74UC\n",
       "BH9IN6TNZKwX5q0xOSyWyeKxAnEA4/xYnp7NJSTV48qIwwuqwFDDjL2X+AX2OVujjyF2Pv/XCoFs\n",
       "5VbFUiB4mVHR22Kl/eBAhITEasg7hcSwquwOVUzqFDB+r5uiqwAAAKNBmmNJ4Q8mUwII//61KoAG\n",
       "M+QRQw1sZFA1oUa0qrwT12nrsDc3dLVj4jQ7tPBRFt5xiPN/R93/t3IEQKYEYxsdfNqdbtmhbiQR\n",
       "MbwZ+FAdlVTBifVufT0pOD3zrvRsaXfI4o0uXuV1LPkKao4fG/n2bDIXBT9ZRv6fs3KKrD58wGxF\n",
       "lk4YlI04vJgBSG23ugkL3IWyDe/6yxucQDK2qwRtfbLQAAAAbUGahEnhDyZTAgj//rUqgAYDM6VA\n",
       "wAXVYzhqfQ+7NWLtqs5ZhwcijZwQXC8baoM0rPbFzNQhC6/8FdBwTJ7szbBK7ypwhzmGeQnShI1Z\n",
       "2L89EBRZLJd3EUKNuy6dKSn2mnmwhwGjvvzXpIZqlKUAAAB6QZqlSeEPJlMCCP/+tSqABgMz9iEA\n",
       "DhXnTuJMZE1p10CBG67ftFThGjsp4l4uMCI3fCZnlHI3BH10d6jzT17E0gFtCwxn1k/Crr/xFodu\n",
       "q/4oM/79M3Ut/dwzl8zFg9pf91zFO13kZzoG31D/f6h+3bpB+uV/aXBK0HcAAACJQZrGSeEPJlMC\n",
       "CP/+tSqABgMz9XbWGgAjxJWVtPas+B7zN3hUXJXwLJfZBAa7mYvcwzR/OnHukC7A/SKE/Cih3yw4\n",
       "PSg29hVc7hh641QWVn+ipcg04nlCGTLIOMnaCkDiFq4S8wCgc39Xw+4aPVjhVhaMkP/GqQR3dPqp\n",
       "I1rzQVow2aSOIDFwb4cAAABwQZrnSeEPJlMCCP/+tSqABgvkEUMNc4eDC0JJXdd1NgBFPQREHsN6\n",
       "sTU8CIYdIQG/qApbLS6J4O8WaAzPYVc4osnOlkR4dSGmITXfvzIEMWl47JADL3gIGY84IDfRiEZy\n",
       "uunkIlX7q08+sP8HdvcvwwAAAGlBmwhJ4Q8mUwII//61KoAF3HP4UDABxufVJOJvyXBWv+3kLT66\n",
       "JxFeg++FEbzZ8bIASAEPSM/wF/NxyZGXHHQkEb/kJElFLO3K2ncOESCkpR7B8bTeAK6NzehQMTW7\n",
       "y33JIiKZs9d7CYAAAACJQZspSeEPJlMCCP/+tSqABdvNn21oAIiDLsanvNmvx9OipkHNvKCEs5Bc\n",
       "QQJEVSvdoY8rs0luMyZ82i9vM/wkjaKmPlcuxc03b5QEfZhV5bMEycuZtbWNPPFgqNI1c1AgqIL+\n",
       "w369j3Bx3B6v3YuxAofZvFux3fEGSru6dp58pKfgU/cp6wgB7cAAAACLQZtKSeEPJlMCCP/+tSqA\n",
       "Bdxz0D7gDo/6L01pfIbP1Mn5n/48peTPQ1a+/5plZgFlicTZRACjvZQmsim9HHfHMc/bA86uasMo\n",
       "yk+uI39tpn/V/HNnqtlqekEfWhenrE+u8rckj7zw70D9H4Nz75/casevKOd7kl3tAuRvpji5Mqeu\n",
       "1nB/eKS3/5kEQQAAAIZBm2tJ4Q8mUwII//61KoAF4+hVPD0dpMXijgYtE6ACYtbj1+2QE/NYBBJc\n",
       "HbgppCyntobtqHpK17ZmAB8E32LQ67sQR+xmVQlxqZL4zNUEKZS7uac7cgOzjUzAVohwKs3EBcxc\n",
       "GbD2rrD6ojFVMsqMpIeYYQcGhHDRWZzGY+U1WWauj9kycAAAAIVBm4xJ4Q8mUwII//61KoAFuHP4\n",
       "U+AAZ5cu9nnCpkQFbqEj5AyPVgz6Zy3F1WeFSehKEooUH3NBfhg+7PH0K39xZRkWo0GmuP1SGdlz\n",
       "/ljs83f/kXcOfMuyGMiJO8PV0DMZoVO/CGLqo67wR1MAaWJBjXa9WB5Ew4YfWKzJ2z61mxTdRjFA\n",
       "AAAAeUGbrUnhDyZTAgj//rUqgAW3TZ5UsIxdgBEv/ZqhGpZK2BuSQ27gaFDwRkaG7/QfWFSTfbu5\n",
       "Fr0hEpnERRVmJv3j5/B5n6vecHqmCvPTj5Q8X+o1/jsaGMTo4OFgDezs49JJe7IgkolZcqgRqRgU\n",
       "BFs3MDNHCVCbkWEAAAB5QZvOSeEPJlMCCP/+tSqABb+I/4J7oAqPcrex3XAywKdWxXbNVwReYkjQ\n",
       "yxn0hu3srFUbDvgWPB+wnqWcRQuvh24dIooluh5uYXtf3yOJwb32P27x7E/tQdV2cpKS21H4dO8y\n",
       "5rORFOmIGL0UKve/iVakNKzzt6x2gQAAAJxBm+9J4Q8mUwII//61KoAFv6N7Em2YtgASyfU31//k\n",
       "t7YzjCYj4Botktv/a1WqAMz+LrXbuZsIaetDgcQnX8ix4vIetkpA31Cq+gjx5REmFDgdby+8zjsG\n",
       "iXU9m7VVV/C4HoBhIXocPXHm3XB9mQFAulwdnDneuDABdjUGy2heVNNA/a/VnZplgmnqLKhQnqZp\n",
       "PFKOTSCLhJy/x2EAAAB4QZoQSeEPJlMCCP/+tSqABZce0TyZLISmuQAJqdJqcZ0099c8zrWpAJpf\n",
       "xhc6f31fKdVPvZN2koHNOGclZ95U/x012oBEGSBBx+ZZWyayyMYD2OjAcWQlhbIG3OYF1mE8EP+A\n",
       "Y5FbbU90gG3fzcMI++4IfvYLaXGAAAAAa0GaMUnhDyZTAgj//rUqgAWUc560ADdjfkPvHnEEWB+V\n",
       "pRcIHY8J/Fv1Ke4JzthxsA5GrwgCxKo+yNADWujeBDQxlsNpJ0LfkTXWQtyurz6Lws5ML+yK4PLy\n",
       "dvcqDllSjtGcpgFUyDfOv6joAAAAaUGaUknhDyZTAgj//rUqgAWb6FU7+XNQmBubx13OeDUGn7DS\n",
       "4Qsd/qz8z0LMW/i4L24kFgwbN9LUhtlZM7VMDOtpX4lXuf3BY56rFhyPPIW64BbJRyvv0EiVHS8G\n",
       "PXsO3vlArg+VwLxJoQAAAGxBmnNJ4Q8mUwII//61KoAFcHP4UDABdQkf2LE7eAnfp8FezWTUEJte\n",
       "9mDnw+RrzWhznVfG+YnoXavqdjuzttCh2NfaIDpwOWVbo+C5BrmLNI6vNo2nm7pJv8nDQlMiIqDq\n",
       "9oTKSzpM6wWxAM4AAAB8QZqUSeEPJlMCCP/+tSqABXBznrQANyglyfp/bib8wsVj91zMy0Q7XmfM\n",
       "qbfrQvXvYZ05ciD/POkXW58cpfhfknEVWHBkzIhxeHqIm/ax1PS5mKMcsbzJCWCaJHrUX7hCNFm/\n",
       "KEgbmRIiryaT8nNTwSwzgu5F8Gu3/1DzsAAAAHdBmrVJ4Q8mUwII//61KoAFcHP2rQAN1hRymODe\n",
       "HvM1/j9Ck0jEYBy2EQ6hC5xQH7iuyDfeYxc+MlWgfLSyL40rfyHHh5e+1n3Ralrn6IuY9pPR2GG8\n",
       "RVtvdVFgs6visx7oFoJutDT8iahklaa3zhsScQE86bVPhQAAAHZBmtZJ4Q8mUwII//61KoAFd+hV\n",
       "khrmoTA3CwiADjOqo7ZSW1WDHzsmo3fxMmdOHcH9P2IVecCpRsoYFAYBeuudaZArG4npmyOp5328\n",
       "xfAAnu2gGYFxuYya4XuZvLbDN1eYu2NhYuAR26kjgbQLoA4SNnCZubKgAAAAbUGa90nhDyZTAgh/\n",
       "/qpVAAqahQbwAALptnhy+OmO2xd/HezDDeATu5l+t3DCsN71FCC171DygFsmv4+22QLJrnm59FeB\n",
       "d6AR5Cy2HZyHrufFG610YE6suLWX2MChvQuOq7Zx4xfsfD+70Ec4WOkAAABYQZsYSeEPJlMCH//+\n",
       "qZYAKTt4s5ABo5eDyBCuISSpW31FcpYLRF4v44jpPaCUC9kxcg8V6X6CTtaQSvTfYxwaRGKBz72p\n",
       "pSBR6QmPIS2V54nbwLWHJcxcYwAAA5ptb292AAAAbG12aGQAAAAAAAAAAAAAAAAAAAPoAAATiAAB\n",
       "AAABAAAAAAAAAAAAAAAAAQAAAAAAAAAAAAAAAAAAAAEAAAAAAAAAAAAAAAAAAEAAAAAAAAAAAAAA\n",
       "AAAAAAAAAAAAAAAAAAAAAAAAAAACAAACxHRyYWsAAABcdGtoZAAAAAMAAAAAAAAAAAAAAAEAAAAA\n",
       "AAATiAAAAAAAAAAAAAAAAAAAAAAAAQAAAAAAAAAAAAAAAAAAAAEAAAAAAAAAAAAAAAAAAEAAAAAB\n",
       "sAAAASAAAAAAACRlZHRzAAAAHGVsc3QAAAAAAAAAAQAAE4gAABAAAAEAAAAAAjxtZGlhAAAAIG1k\n",
       "aGQAAAAAAAAAAAAAAAAAACgAAADIAFXEAAAAAAAtaGRscgAAAAAAAAAAdmlkZQAAAAAAAAAAAAAA\n",
       "AFZpZGVvSGFuZGxlcgAAAAHnbWluZgAAABR2bWhkAAAAAQAAAAAAAAAAAAAAJGRpbmYAAAAcZHJl\n",
       "ZgAAAAAAAAABAAAADHVybCAAAAABAAABp3N0YmwAAACzc3RzZAAAAAAAAAABAAAAo2F2YzEAAAAA\n",
       "AAAAAQAAAAAAAAAAAAAAAAAAAAABsAEgAEgAAABIAAAAAAAAAAEAAAAAAAAAAAAAAAAAAAAAAAAA\n",
       "AAAAAAAAAAAAAAAAAAAY//8AAAAxYXZjQwFkABX/4QAYZ2QAFazZQbCWhAAAAwAEAAADACg8WLZY\n",
       "AQAGaOvjyyLAAAAAHHV1aWRraEDyXyRPxbo5pRvPAyPzAAAAAAAAABhzdHRzAAAAAAAAAAEAAAAZ\n",
       "AAAIAAAAABRzdHNzAAAAAAAAAAEAAAABAAAAGGN0dHMAAAAAAAAAAQAAABkAABAAAAAAHHN0c2MA\n",
       "AAAAAAAAAQAAAAEAAAAZAAAAAQAAAHhzdHN6AAAAAAAAAAAAAAAZAAARCwAAAcEAAACMAAAApwAA\n",
       "AHEAAAB+AAAAjQAAAHQAAABtAAAAjQAAAI8AAACKAAAAiQAAAH0AAAB9AAAAoAAAAHwAAABvAAAA\n",
       "bQAAAHAAAACAAAAAewAAAHoAAABxAAAAXAAAABRzdGNvAAAAAAAAAAEAAAAsAAAAYnVkdGEAAABa\n",
       "bWV0YQAAAAAAAAAhaGRscgAAAAAAAAAAbWRpcmFwcGwAAAAAAAAAAAAAAAAtaWxzdAAAACWpdG9v\n",
       "AAAAHWRhdGEAAAABAAAAAExhdmY1Ni40MC4xMDE=\n",
       "\">\n",
       "  Your browser does not support the video tag.\n",
       "</video>"
      ],
      "text/plain": [
       "<IPython.core.display.HTML object>"
      ]
     },
     "execution_count": 29,
     "metadata": {},
     "output_type": "execute_result"
    }
   ],
   "source": [
    "from matplotlib import animation, rc\n",
    "from IPython.display import HTML\n",
    "\n",
    "### PARAMETERS\n",
    "L = 2.0\n",
    "nx = 81\n",
    "dx = L / (nx -1)\n",
    "nt = 25\n",
    "dt = 0.025\n",
    "c = 1.0\n",
    "\n",
    "u = np.ones(nx)\n",
    "u[int(0.5 / dx): int(1/dx+1)] = 2\n",
    "un = np.ones(nx)\n",
    "\n",
    "def animate(n):\n",
    "    un = u.copy()\n",
    "    for i in range(1, nx):\n",
    "        u[i] = un[i] - c *(dt/dx)*(un[i] - un[i-1])\n",
    "\n",
    "    line.set_data(np.linspace(0, 2, nx), u)\n",
    "    return (line,)\n",
    "\n",
    "fig, ax = plt.subplots()\n",
    "ax.set_xlim((0, 2))\n",
    "ax.set_ylim((0, 2.5))\n",
    "line, = ax.plot([], [], lw=2)\n",
    "\n",
    "animation.Animation._repr_html_ = anim_to_html\n",
    "anim = animation.FuncAnimation(fig, animate, frames=nt, blit=True)\n",
    "plt.close()\n",
    "HTML(anim.to_html5_video())"
   ]
  },
  {
   "cell_type": "code",
   "execution_count": 28,
   "metadata": {},
   "outputs": [
    {
     "data": {
      "text/html": [
       "<video controls>\n",
       " <source src=\"data:video/x-m4v;base64,b'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'\" type=\"video/mp4\">\n",
       " Your browser does not support the video tag.\n",
       "</video>"
      ],
      "text/plain": [
       "<IPython.core.display.HTML object>"
      ]
     },
     "execution_count": 28,
     "metadata": {},
     "output_type": "execute_result"
    }
   ],
   "source": [
    "from tempfile import NamedTemporaryFile\n",
    "import base64\n",
    "\n",
    "VIDEO_TAG = \"\"\"<video controls>\n",
    " <source src=\"data:video/x-m4v;base64,{0}\" type=\"video/mp4\">\n",
    " Your browser does not support the video tag.\n",
    "</video>\"\"\"\n",
    "\n",
    "def anim_to_html(anim):\n",
    "    if not hasattr(anim, '_encoded_video'):\n",
    "        with NamedTemporaryFile(suffix='.mp4') as f:\n",
    "            anim.save(f.name, fps=20, extra_args=['-vcodec', 'libx264'])\n",
    "            video = open(f.name, \"rb\").read()\n",
    "        anim._encoded_video = base64.b64encode(video)\n",
    "        \n",
    "    return VIDEO_TAG.format(anim._encoded_video)\n",
    "\n",
    "plt.close(anim._fig)\n",
    "HTML(anim_to_html(anim))"
   ]
  },
  {
   "cell_type": "code",
   "execution_count": null,
   "metadata": {
    "collapsed": true
   },
   "outputs": [],
   "source": []
  }
 ],
 "metadata": {
  "kernelspec": {
   "display_name": "Python 3",
   "language": "python",
   "name": "python3"
  },
  "language_info": {
   "codemirror_mode": {
    "name": "ipython",
    "version": 3
   },
   "file_extension": ".py",
   "mimetype": "text/x-python",
   "name": "python",
   "nbconvert_exporter": "python",
   "pygments_lexer": "ipython3",
   "version": "3.6.4"
  }
 },
 "nbformat": 4,
 "nbformat_minor": 2
}
