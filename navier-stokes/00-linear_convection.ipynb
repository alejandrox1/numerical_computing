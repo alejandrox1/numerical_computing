{
 "cells": [
  {
   "cell_type": "markdown",
   "metadata": {},
   "source": [
    "# Linear convection with a step-function initial condition (IC) and appropiate boundary conditions (BCs)"
   ]
  },
  {
   "cell_type": "markdown",
   "metadata": {},
   "source": [
    "## Linear Convection (Advection)\n",
    "\n",
    "$$\n",
    "\\frac{\\partial u}{\\partial t} + c \\frac{\\partial u}{\\partial x} = 0\n",
    "$$\n",
    "\n",
    "Represents the propagation of a wave with speed $c$, without change of shape.\n",
    "\n",
    "Let the initial condition (some arbitrary profile) be $u(x,0) = u_0 (x)$.\n",
    "Then the exact solution to the equation is $u(x,t) = u_o (x - ct)$.\n",
    "\n",
    "If we let the system time evolve, after time $t$ we will simply get our initial profile shifted by an ammount $ct$.\n",
    "This can be seen as a wave propagation equation with $u$ being the wave amplitude, and $c$ being the phase propagation speed."
   ]
  },
  {
   "cell_type": "markdown",
   "metadata": {},
   "source": [
    "Discretize the linear convection equation in both time and space using a forward difference scheme for the time derivative and a backward difference scheme for the space derivative.\n",
    "\n",
    "Discretize the spatial coordinate $x$ into points which we will index from $i = 0$ to $N$.\n",
    "$n$ will index the time step.\n",
    "\n",
    "One can easily arive at the discrete version of our linear convection equation:\n",
    "$$\n",
    "\\frac{u_{i}^{n+1} - u_{i}^{n}}{\\Delta t} + c \\frac{u_{i}^{n} - u_{i-1}^{n}}{\\Delta x} = 0\n",
    "$$"
   ]
  },
  {
   "cell_type": "markdown",
   "metadata": {},
   "source": [
    "Given initial conditions, we only need to solve for $u_{i}^{n+1}$:\n",
    "\n",
    "$$\n",
    "u_{i}^{n+1} =  u_{i}^{n} - c \\frac{\\Delta t}{\\Delta x} \\left( u_{i}^{n} - u_{i-1}^{n} \\right)\n",
    "$$"
   ]
  },
  {
   "cell_type": "code",
   "execution_count": 1,
   "metadata": {
    "collapsed": true
   },
   "outputs": [],
   "source": [
    "%matplotlib inline\n",
    "import numpy as np\n",
    "import matplotlib.pyplot as plt\n",
    "import time\n",
    "import sys"
   ]
  },
  {
   "cell_type": "code",
   "execution_count": 2,
   "metadata": {
    "collapsed": true
   },
   "outputs": [],
   "source": [
    "# Spatial domain (n units of length).\n",
    "L = 2.0\n",
    "# Number of spatial grid points.\n",
    "nx = 41\n",
    "dx = L / (nx -1)\n",
    "\n",
    "# Number of time steps.\n",
    "nt = 25\n",
    "dt = 0.025\n",
    "\n",
    "# Wave speed.\n",
    "c = 1.0"
   ]
  },
  {
   "cell_type": "code",
   "execution_count": 42,
   "metadata": {},
   "outputs": [
    {
     "data": {
      "image/png": "[encoded data removed]",
      "text/plain": [
       "<matplotlib.figure.Figure at 0x7f212aaadcf8>"
      ]
     },
     "metadata": {},
     "output_type": "display_data"
    }
   ],
   "source": [
    "# Initial conditions - u = 2, 0.5 < x < 1; u = 1 elsewhere.\n",
    "# Boundary condition - [0,2]\n",
    "u = np.ones(nx)\n",
    "u[int(0.5 / dx): int(1/dx+1)] = 2\n",
    "\n",
    "fig = plt.figure(figsize=(15,4))\n",
    "ax = fig.add_subplot(121)\n",
    "\n",
    "ax.set_ylabel(r\"$u$\")\n",
    "ax.set_xlabel(r\"$x$\")\n",
    "ax.plot(np.linspace(0, 2, nx), u)\n",
    "plt.show()"
   ]
  },
  {
   "cell_type": "markdown",
   "metadata": {},
   "source": [
    "## Discretization of the linear convection equation using a finite difference scheme"
   ]
  },
  {
   "cell_type": "code",
   "execution_count": 8,
   "metadata": {
    "collapsed": true
   },
   "outputs": [],
   "source": [
    "# Initialize tmp array - soltn for the nex time step.\n",
    "# Same dimentions as array u.\n",
    "un = np.ones(nx)\n",
    "\n",
    "for n in range(nt):\n",
    "    # cp existing values of u in un.\n",
    "    # un will hold the values at timestep n, u at n+1.\n",
    "    un = u.copy()\n",
    "    for i in range(1,nx):\n",
    "        u[i] = un[i] - c *(dt/dx)*(un[i] - un[i-1])"
   ]
  },
  {
   "cell_type": "code",
   "execution_count": 43,
   "metadata": {
    "scrolled": true
   },
   "outputs": [
    {
     "data": {
      "image/png": "[encoded data removed]",
      "text/plain": [
       "<matplotlib.figure.Figure at 0x7f212ab27d68>"
      ]
     },
     "metadata": {},
     "output_type": "display_data"
    }
   ],
   "source": [
    "fig = plt.figure(figsize=(15, 4))\n",
    "ax = fig.add_subplot(121)\n",
    "\n",
    "ax.plot(np.linspace(0, 2, nx), u)\n",
    "plt.show()"
   ]
  },
  {
   "cell_type": "markdown",
   "metadata": {},
   "source": [
    "# Animations"
   ]
  },
  {
   "cell_type": "code",
   "execution_count": 45,
   "metadata": {},
   "outputs": [
    {
     "data": {
      "text/html": [
       "<video width=\"432\" height=\"288\" controls autoplay loop>\n",
       "  <source type=\"video/mp4\" src=\"data:video/mp4;base64,AAAAHGZ0eXBNNFYgAAACAGlzb21pc28yYXZjMQAAAAhmcmVlAAAi8W1kYXQAAAKtBgX//6ncRem9\n",
       "5tlIt5Ys2CDZI+7veDI2NCAtIGNvcmUgMTQ4IHIyNjQzIDVjNjU3MDQgLSBILjI2NC9NUEVHLTQg\n",
       "QVZDIGNvZGVjIC0gQ29weWxlZnQgMjAwMy0yMDE1IC0gaHR0cDovL3d3dy52aWRlb2xhbi5vcmcv\n",
       "eDI2NC5odG1sIC0gb3B0aW9uczogY2FiYWM9MSByZWY9MyBkZWJsb2NrPTE6MDowIGFuYWx5c2U9\n",
       "MHgzOjB4MTEzIG1lPWhleCBzdWJtZT03IHBzeT0xIHBzeV9yZD0xLjAwOjAuMDAgbWl4ZWRfcmVm\n",
       "PTEgbWVfcmFuZ2U9MTYgY2hyb21hX21lPTEgdHJlbGxpcz0xIDh4OGRjdD0xIGNxbT0wIGRlYWR6\n",
       "b25lPTIxLDExIGZhc3RfcHNraXA9MSBjaHJvbWFfcXBfb2Zmc2V0PS0yIHRocmVhZHM9OSBsb29r\n",
       "YWhlYWRfdGhyZWFkcz0xIHNsaWNlZF90aHJlYWRzPTAgbnI9MCBkZWNpbWF0ZT0xIGludGVybGFj\n",
       "ZWQ9MCBibHVyYXlfY29tcGF0PTAgY29uc3RyYWluZWRfaW50cmE9MCBiZnJhbWVzPTMgYl9weXJh\n",
       "bWlkPTIgYl9hZGFwdD0xIGJfYmlhcz0wIGRpcmVjdD0xIHdlaWdodGI9MSBvcGVuX2dvcD0wIHdl\n",
       "aWdodHA9MiBrZXlpbnQ9MjUwIGtleWludF9taW49NSBzY2VuZWN1dD00MCBpbnRyYV9yZWZyZXNo\n",
       "PTAgcmNfbG9va2FoZWFkPTQwIHJjPWNyZiBtYnRyZWU9MSBjcmY9MjMuMCBxY29tcD0wLjYwIHFw\n",
       "bWluPTAgcXBtYXg9NjkgcXBzdGVwPTQgaXBfcmF0aW89MS40MCBhcT0xOjEuMDAAgAAADoVliIQA\n",
       "Ef/+94gfMstp+TrXchHnrS6tH1DuRnFepL3+IAAAAwAWnK7X95f33agUiVyOpPGcwokmoNataRIp\n",
       "5pnDJ9o8BhML/QNqD/nZohvd4P82QqjR2TAbkz6Z//dCIl4EuzD0bt8TyAAJZoX3xaD9/ekIp7H/\n",
       "nKRvGo9E5COaKNrnmAJj31LSchQ4KqV52F+Z7Tr9JnmY68Pogw7EKFs3rJ9qJUvwYhCFjoIn9C6h\n",
       "heAY6qG7/C5xJRhG0Trh11AkvjkWm1uorO75xnjamW/FjZ7Q6NeACvcC1syOm2HNh5t/+QCj3whq\n",
       "lnkpW3L53IjgKlJh6CFYIF2SxeGBLKEKcXoQ/j/oBI3SQNVhjoqf3sHscOEcH5ectk79QmeiIJkA\n",
       "ABIBIjHHIZ5vQR+PY/2vGoh4t7WH2RM+g1IeNvD3xOMHpfma4ZrIzskhF/Lt/SRytsreGQzXxkpX\n",
       "3/Yve6tnaby1pwWPX6DUrsvSkvV0dq5iufj95p1YwoGNXv+HZFGRrauzpO3xEulpb4bqGS22uVGN\n",
       "wZe1k1C8U/TCLyIBVOhDcY7TEApILPRA13/NoEh6OlMYPBXV2Rq79QxAME7om/UzimGlDvf7l9Yk\n",
       "rVOc3safBS0UB0I4cRkXGUlJCVeN/1WXttVWgYTXG5ThrA1M79bLiBrvE+OjDQQLsOLZ590VWuBy\n",
       "WIAtvoEBtzAIMY+wEpGA6HxBvN5YeDd4jutGQE+MhSqjKAaXyfbB54/5V4oUZsH3XE+u9mkzG0oO\n",
       "n4r/bJbNMyYYkof+xVTuXQKUMRLQGhNtp5r1353T7V0nS/OhFEEthdxeQW/8wahKIUJuBsiA3brr\n",
       "CLeGDzhRr8C1YxXeXF1wyH0Nlwm03YKPH+ygAuK3Oz9vyDgrGZ/Gp0q/YOb1IDBPkfDh2Rr+k4Ho\n",
       "Wcut27a1Ptd0QQR8j8itLtz2CpxN0nLKAxgsfAjB9qdeWA9XkARNqfFU3qkuSfMerP+1w2Bn5pZO\n",
       "UQ93PXG10LrYzTIHy/Gr2wvbxEPzNF3ZEcFUVkjkKug2MwgCXX+UjO5CYqKrpntPv8YHzjKSVscY\n",
       "ZudrAS/Rfh6fZT6MvkUZRKLKrCj1qnvLnsqoJ3gXiH7fqkYYsCZvFKOnJB0Sy7nLjp5BmQH+VDiA\n",
       "GNThnfRKgCgNy446fXIMDD1SCEvGm30bkelKr5+3qlH/n38xOzZXS3c9wLYHenj4T9k8t5i6Xb/W\n",
       "lieoqpcOqc7NrcBG3yd6qLiiRy/EE7EYlx4Rna7ASE8N1NYtoNIl87bkxtFo2PhPVqZHKpAIuTo8\n",
       "p3IsvqzIw+MorhQ7Hnf8hJ9NPXYbKoOk/2FJAZao/KGtNG/UCQdFpK3nnkJMO1E2ln2pxgSZ6rJq\n",
       "ukPAcwGuyDA0QSzJffA77JLLE8sTqCBUai+KLgTN2hg5x6qlfeaAHRkyNFSawbMBZ8I/IWiu23xe\n",
       "MgjkBC5RnLJohMsdBPAfyoVNFhiIBSpBFPV1h38Umpzp1e7cHrt4WlsaEmgtNWGf4NlFspq3g7rY\n",
       "D8FHsx72XGn8dmdlOibQqYnFw16km4WVsHfauj5fvXTf7apG9ysvH6WoWAtI3IsK9gOHem4sI605\n",
       "CymdwFNsTvsdLc6erPI0f/68522F5/Folof+bWhzzHn5kbn+7rfVmowJsutsaEXG1UD3YWQwurPi\n",
       "cnRvNcxtrSXUlGgyldxEi5kcOTZX9UiMYpeGlKNelSjYLtI3hKaryFEY2tvn2bhHYlSRfr7o+lL5\n",
       "+NDaoLlvCUwHIYL2BuG31Mj2AfW2O/Sj7FXgOW5QYavJwHlYLA68Rey3/nsnteyTOZIcG3LezqHN\n",
       "IapRIJZptVSV2wnBkq6P8EoVBXxyQNQGuNwzPdg5AVk4ZXnI5dmCdbVEzIv4BfMOqJzecZQHro+p\n",
       "lWj3zezlGz4Zsrsc1xLiblJVz1VYO5TYnLbdPMABzUILl+8uHKzP7limq8Ujvld2dDSovUV9cYmz\n",
       "ojuFgXeiBlfmtxWMqVPv1zp9uSeT01JIm1SCQ3bimfgGqR1+eSVoRR7CXfwde0OtJf+Rsw80Oqyi\n",
       "3Me1n50lUhP8GIohuoPzWZcxHJ1VqZAsanrL8yHU++iWtSxUQAAt0fNbuiZdu98KTpYsm/7WBntj\n",
       "u8CIeYUBTYZxe5KSOTxNoeHEzadyDzA2btxG6XZiLfwBMaubCa12PVfWVBdF3+nKbP6b2V6dJrfo\n",
       "6f7R1X3DTc+6e31KUoAoEJHqd/B58hmsqNUVzC1EdYUVqEJcTd7U/2udqXmnyffQnSDIYDcTREmM\n",
       "5xJ3xV4uCXmdXeWncxAzVi63APqfpi3Sz1YebmyMTS6NyvI3qi0t3yBFx3Nc2dXh1MusgG/ayPlm\n",
       "BZ2p9oBwnMWHRxR7kQfxL5n4tZnK4LW/55pAvNY8KJq7DBxN1FNHKhKpNWgLccADT3xGapbMDfVD\n",
       "8jUGcYh51vw6oXsVaf//gJ6i7GDED9KHLya8MA+dPnS7rCx4X4oYn9OVizBL1qgYy64sAG4QY4/A\n",
       "Fjf+NceBgNEgW7o4o0TACGndNCcfsu9CeYKFEZ2VRIWRnhb5jfG4NYBOP69UUHWRHQ3LmsLMxlwE\n",
       "4QU60Xz6zATmg68gSMuDM/Y+/lrWF4qcf4lWdbC6G4dFhvNWkNKRGtAkMCHVX3BT8Gc3nGTVai6C\n",
       "pki5BNA4Bb34YgQk7x9pnEh8uR/LeWAr2/dC/eM3cuHAwXcvy/lEo5bNETYFUMUdTKRwnVMgN1z0\n",
       "97xCtXHEpjxM82u//4zIO6eG7effSRAtMfFaOw+DArUHlvwLylIAJguikmuAcsSGKNATenSfxSRp\n",
       "vurv7yAVUTz3+ljK3GHB0jSPf84xd0HAlNEGax0Gw1vMk/lTFKmTMO2T57YS0u5CsT0B4yU5l/R/\n",
       "Nw7MiVDqEgijVv3fJVI5Fa2kYP1pgtvsolcV8HcIMoHiemk2VEFnuHttByTZYBUlmCGRj9VbEwBQ\n",
       "UixgySjArjmquueW7hWyV4Zbn+jxdcTRt6J9kBbN2bIt5Fd8jQb5TK4+2g50sWeKSWjHIBwnNkt5\n",
       "q1kG/MWuG/LcfpFLgJbJ2OLuX7Gc4353HP3jKSmlmaaHntyxp90i13KCNgEDnm1abVyMzFYjdnsB\n",
       "2N82jwf4y1wgu2FeJEaa8f0YSGm9QBWwjC+IB388S2gMCApIVCXbwxh7q2Fta8L1/h2bXFJscRbj\n",
       "E9KtwleHZr2l7ZKSlLisR4YmnUzCTvmUGPa8jkFIQV+zzsVI0uSdWEH5CAQNTOFXslx4KtO6TFeN\n",
       "0Fb0+0R920W0aAk40rIZc/WwRwCJckpwjxIQ807P5DpEuhyCAmeaddzMykVDPGyG5kctQL9jwAO6\n",
       "Q5GT5oZCLdu+h/sxu2ubfed4mKzdf9g96ubVa9oMkbsh/3ANAalc6+ZDwD1DMlqcrYhN6cOHAzkO\n",
       "trVisKTl41btfVNkieQAtOYyey7AWNDTkuMx32WRbKj5YA3hIx5LNbmvAXEv1TVP7UgnuwK1/1b1\n",
       "zMTRpETtTkGkAdYT/3p74roWjPLtDW0eWuFI6B3pw5Brg0DP6IJXGa5LU6lT+kagzcNFVq4HdioX\n",
       "GtK44WFU1k6tyS59p9qzYNgKva0QrI49+MchCJRPkhH+L4Zi5FgFpncPyHptF/BYRXCj+5E8ntbz\n",
       "VOdDWp46WWUhoc69k/NsNn1bH7Wf3lszZ0YT9oHfngvxRx8nEA7p1Thxe4/UwvFqjJ/bs0tmro/e\n",
       "n+w55FcgSA6A4o7Odh06J+xijO0JTe8+57ITQ8JEZhTzo/H3pQu1TqNWre72C009CWBSCMVbULZ/\n",
       "dw3w5CabZEt8dLM0dg2iDfl/mL5Qh9hBvzXzzB1wR5xhAdS7WJdpK7TzjSbvSYSuMiHJsYoqROb1\n",
       "+KCv1hGA7gmcREQN1/b/UT11WLvAy22poShBmzoBkZXq4lQ8KgokdC5Rjtqdb0UK4T1RDZRqBCsC\n",
       "C8T/DG2xy8fP1MaRdWAixIDkSKeigNkVoaPm6K28/d4r/gFLlH7b/FF/DABD9nw9YBFpqE35+h8g\n",
       "vssWDo6XL51GDIgEavUmCEqs0UM91Ja5akDzgVAO0hoAHUz2pNrhXLeOBBNCcFZXEaNObVFkySNg\n",
       "Wp2rFwIRjg6LG0v2K7Ifqv4glnQj6TTirwhsAzUe6CYsMge+d+xapVqq/3E1EL8MRyVLCzsqjnhg\n",
       "SO4MTHuOg0c4xSDwAe0pWlUsKh8O2/xBknWGtBNUGYCfLrxK+sFF/IN+bt85zZutiJwML1aH/z6v\n",
       "5/AfhDWPLfp7xus3CaNaCVrnJqmKtGlxivuwP4aYhNWG19SH3vH4xR7V/moLdZh6H3AaBWl4+SKP\n",
       "4HLFPW+m/8Pu45AG3/mMajj/93gYbGtyOvzey8cwqYK3psR0E4LrzfHnzVV8WwLnp5aGvqxPQDgh\n",
       "x9Pe2OjchGpjdsTiX4v/s0T0jaX9ZS/SzK3oq4qaNybXcXPY/1UioXRd6P3WsBA+gQ85J+eNzaC1\n",
       "arbhKTz86nu14Xa9bW3mQyAZEvBOxOcbE47xMC/22pfNmzQUr1sCu8m6p5QsikABFZjmx2hv8kQw\n",
       "d7HNe0O86R/oKPKx7zWfpFG2O1YOCiDm3tRbhoZQug2W5w/ouKqrYtP6AWSu/MLknWdAA0fazLBz\n",
       "nzK7o4dYhVgIxmK0z31NoYNy1MKHPOUZ6GMxa/f4EXgMoXkrD9X424Vp/x09SiiexHkzkFNBJO9q\n",
       "qLBxk8liskpbAOzfm26r/mp+4TlLVYuqonoBFTO90Qn+v7E4bS+NvApRK0AKSvK6ZZI/2QlOa8Mw\n",
       "z43gOY6rondR3tLaso5bjKF75B+KxGu0jrT3vfrJ0gXpISc9u+2Nhngk8sOqthzNkicSt4GRAt/4\n",
       "JZBzRJiUbiQrKIKTyRR6w1IW3DU89C0C4iACIxZPtzKsxct5aoNBmFBPp7HDB6z0/g42/hniPRVr\n",
       "PVhD4AAe13EAAAFQQZohbEEf/rUqgAYqx+tfOyGs8AAuUBk9aiv1NLg7TdbFuOh+TT6ULVcj4kUT\n",
       "m9qIeH+uirJAqomMgI8fSZEj4La/HrjTaWVNYoEFNMWAWi7bvBvr43mlBPrgFyzY9TeWrnnGQEc0\n",
       "N4Z3qkPmX5zhkkn1jLlucXX5WVOR9OVTXbj1wU4QIUZOeZvV7oQiVsRJ1/85vTcC17yB030F0xEa\n",
       "cZnjL1sRl4fdW1qrgvDd9H+iV/fEjsknMmGlDA3cE7GGhKkHvYQ2J/kqOHFT9H1HPSuEvlb3YQKB\n",
       "a56dZkSC/oYa/dlUcFEQoOF80lBihOqYQbS8GuD4tqUSO4PbNhmQW+XH0BWi1Oihdo17lycOJNL9\n",
       "11Qur6WQzVCGIgVlKdxRHTo9e8Bww10ra+qyQ5aJYMD1S5yXRoHqTzsnRW0RsQIO48HshOb/l0Pm\n",
       "Gw6HHbqgAAAAgkGaQjwhkymEEf/+tSqABisz9q0AETPsUPRCzbzcn6GRo0hSVSye7e+FAgR/SDek\n",
       "zWSsF+atMTkslsnisQJxAOP8WJ6ezSUk1ePKiMMLqsBQw4y9l/gz8iif4CHjnnvIlf4QR42BCn3N\n",
       "Fiy3gRHC2RVH5u/SBNkMd7DVRfgoEWIwWTEAAACIQZpjSeEPJlMCCP/+tSqABjPkEUMNbGRQNaFG\n",
       "tKq8E9dp67A3N3S1Y+I0O7TwURbecYjzf0fd/7dyBECmBGMbHXzanW7ZoW4kETG8GfnDEt6yRj3m\n",
       "Zv9rxWgCJa6eXDM17OoromC9p963tryunRGi2gFpTeNWjh5C1+/ud1smfsllJIJnyDgJQAAAAG1B\n",
       "moRJ4Q8mUwII//61KoAGAzOlQMAF1WM4an0PuzVi7arOWYcHIo2cEFwvG2qDNKz2xczUIQuv/BXQ\n",
       "cEye7M2zIpWIwTEtw8hTUP/Ocurekg4RpVrLrrbl8ajXTdnlTQKkATnIFGdIVUTzLnkhAAAAhEGa\n",
       "pUnhDyZTAgj//rUqgAYDM/YhAA4V507iTGRNaddAgRuu37RU4Ro7KeJeLjAiN3wmZ5RyNwR9dHeo\n",
       "809exNIBbQsMZ9ZQcfcACReQ+3Cl1OD/SlEcfORVKWnu4Y2PSMrABMfs3c7JAjT3bwnrOpnfiCgl\n",
       "x3LhzhJzbfZi3Rmgkm6GwQAAAIZBmsZJ4Q8mUwII//61KoAGAzP1dtYaACPElZW09qz4HvM3eFRc\n",
       "lfAsl9kEBruZi9zDNH86ce6QLsD9IoT8KKHfLDg9KDb2FVzuGHrjVBZWf6KlyDTieUIZMsg4ydoK\n",
       "QOv9fULmO4aR0G0eeM0juxrWNykm6yr9M9w1jDiZiCu+VedDZ7TCHQAAAHhBmudJ4Q8mUwII//61\n",
       "KoAGC+QRQw1zh4MLQkld13U2AEU9BEQew3qxNTwIhh0hAb+oClstLong7xZoDM9hVziiyc6dXgN/\n",
       "4wxCa7zc77cZWaML19M8bz2gefks8wBG/1mdtaUhrHpJrQq5uLwVTLZL+FMkX+SmH1EAAABzQZsI\n",
       "SeEPJlMCCP/+tSqABdxz+FAwAcbn1STib8lwVr/t5C0+uicRXoPvhRG82fGyAEgBD0jP8BfzccmR\n",
       "iDYxII7KEe7vVu8u6p6NK1VlY7yq2ZXyMHS4ZTle6FqdQ5kOSKUNkFYlxe6Klx9l4IUGQmmGpgAA\n",
       "AH5BmylJ4Q8mUwII//61KoAF282fbWgAiIMuxqe82a/H06KmQc28oISzkFxBAkRVK92hjyuzSW4z\n",
       "JnzaL28z/CSNoqY+Vy7FzTdvlAR9mFXl0s1vIrl68UY+O/QmdpRfKEZaLgxvsvEu0fZuvYOmIlaB\n",
       "kMoqXYyU4oRrfTCgI9oAAACKQZtKSeEPJlMCCP/+tSqABdxz0D7gDo/6L01pfIbP1Mn5n/48peTP\n",
       "Q1a+/5plZgFlicTZRACjvZQmsim9HHfHMc/bA86uasMoyk+s+n9tpn/V/HNnqtlqekEfYmAW11O2\n",
       "Bk0sVb442giViaTdLCd1N5YCiQXj9Lyfn1iF2v71567WVBRVRqY8nf2BAAAAjEGba0nhDyZTAgj/\n",
       "/rUqgAXj6FU8PR2kxeKOBi0ToAJi1uPX7ZAT81gEElwduCmkLKe2hu2oekrXtmYAHw8vYtDruxBH\n",
       "7Fixj+aoJKy5Nzm4yVay1pqJl7QTkji42BNQnRtMQ/LQBaz/fvFc+lnxixGJxnYTn5kJvtB5U0zO\n",
       "DeDQGjOgN/OA/Xx1dR9OAAAAfkGbjEnhDyZTAgj//rUqgAW4c/hT4ABnly72ecKmRAVuoSPkDI9W\n",
       "DPpnLcXVZ4VJ6EoSihQfc0F+GD7s8fQrIbFlGRai8aTGJCYvfHgBs33d/+SMJQbl2Ec58AW2Ti5J\n",
       "wjJZTeq2RmPivItKJNRJyrLoV6EjP1RPG+VjHUIgcAAAAHBBm61J4Q8mUwII//61KoAFt02eVLCM\n",
       "XYARL/2aoRqWStgbkkNu4GhW6cO50h13QClY+qdyLXpBjrwlhK4SjEF75/B5n6f+cuCmCvPTiCFD\n",
       "erfcd3bSB9pCrMtPBby9Qvh2sCywQYef6eHxCKQBFI+5AAAAhUGbzknhDyZTAgj//rUqgAW/iP+C\n",
       "e6AKj3K3sd1wMsCnVsV2zVcEXmJI0MsZ3RYvY188fNofynB+wnqWcRQuvjcSGIBdydNQ0WM6b3ft\n",
       "UqabLqmYCz/DDL+dDBM7oWqaRHxTJlFZF0GMxTrZe9yEGyt0CayFZZES3pVDBsJfuQK8PYuyV4EA\n",
       "AACoQZvvSeEPJlMCCP/+tSqABb+jexJtmLYAEsn1N9f/5Le2liGeaHQSp1/cD4adHaIzP4utdu5m\n",
       "whp60OBxCdfyLHi8h62SkBtMaMLw13k9MMbasZOx8plVhGtm+NiOjyB0tY00suGfzqLLjFvWhj02\n",
       "2ptokDYEWBqFk4Hm8T1wGOOymzvPZLU9VwQN7szNVwIfQ2z3lTJgpXXWJheZPvqvBQZzffR5oUOd\n",
       "AAAAdUGaEEnhDyZTAgj//rUqgAWXHtE8mSyEpixACdnSaf2lIqJNu6/VnPM62VQCm0DVP0afLOBZ\n",
       "1U+9lSv76M3H07ud3lV8ndFG+gV5Kwset6BRlia05jS9A5uT6At1F+gzmBcwnMcBZMea8PQrKXFj\n",
       "R9fJs1VHWwAAAHlBmjFJ4Q8mUwII//61KoAFlHOetAA3Y35D7x5xBFggEH5+OB0nEjTRzcTRoeT8\n",
       "dVFrQRmk9NJtqGrMN4PeDZWfAjL1l+8x9xVlhGV4BfcdZsNu38ZFMb3+ALd578EJrDQj46Tkxywv\n",
       "vohS8q466iK1VjYyD79z1S1AAAAAZ0GaUknhDyZTAgj//rUqgAWb6FU7+XNQmBubx13OeDUGn7DS\n",
       "4Qsd/CHzPQd27QqT8XjbsB/BDM1MMtMzlIZm/IPokGNOIBOqL3z1V9FlRqGvokhIhIWoDnop2mNB\n",
       "W4PD7D926T7KIG0AAABmQZpzSeEPJlMCCP/+tSqABXBz+FAwAXUJH9ixO3gJ37DtIE+UK2f2Mh+y\n",
       "pXf6Yn5FSQCzZK8zQmO+zxyVOaFHCAZQCG84K+UuaURRXlnLwNvfHn+vuIuEgjyF5jusrzp6/CgD\n",
       "ogACAAAAWUGalEnhDyZTAgj//rUqgAVwc560ADdCcuT8xacTfkvluA8cM7jgern1ClkB2oJ9/3+s\n",
       "gcqG63vjiYMalfbzqROAAYAR9nfR/9otssK8TTgfjrjfshshsO8cAAAAeUGatUnhDyZTAgj//rUq\n",
       "gAVwc/atAA3Y5DuYuBzD3ma/x3hJpCr+2XswhoSBsIFJW8IV5q3jFctcxi6L/UtA/iuzbyVyQltb\n",
       "ekFDfsrZv2K65m15mruKA0WtlheAYi9f1v0s6e6ZWh15OI78w+csRBveL2GcTnrFIhsAAAByQZrW\n",
       "SeEPJlMCCP/+tSqABXfoVTv5czGwrkzzzs2g78v/GXfN6NWqPxL3as9usalj1OKmWMDhpeF6TUug\n",
       "J7Co5t2twK19qWwk8pc/eXWsQPPWuITE1zAPfrGYDd0d+YHcQ2xICu5upnVx7gD5wQ7q8cQYAAAA\n",
       "e0Ga90nhDyZTAgj//rUqgAVPG77Xf3WIsLLkxXOrAX4NgBb6ceSezDTRZ+KZt2v053pX0FTLLybz\n",
       "PtJ31RofYP1oo3p/e1nCV4Nq6qn+qe/URyNXVnjJOBN18X7NeF7ir19LE/TePGJQGVHmt6kgYRR1\n",
       "JTFKBViPg9Lm0QAAAG1BmxhJ4Q8mUwII//61KoAFTHOchAA4W8TSaeMim8/N6Jc1gnC02I8NimSI\n",
       "8WEXOLsYW1K8gcXoTSXFHDB+9W++13xJC//YDCqyC1aMBiRp4Qa/0ZidxLET5wBfvFP32Su2fYnL\n",
       "Yve98crF7syxAAAAg0GbOUnhDyZTAgj//rUqgAVMc/YhABGVF22oIlif+Nb3mZTx+TC0g6jXIaNG\n",
       "3WgRb1WRfe3kim8uj64JPIs8+8RJyzu5kV/oGyDB2rQL8qhL2IC1PFgKC4tEpbrdyWXMw0WbwB43\n",
       "tdascqq9qeq9kSes/Cct2KLjKtJTRoz5bHEYJrjgAAAAdEGbWknhDyZTAgj//rUqgAVTo3sbwoYN\n",
       "gASyWhlkxnLbbOjGeRpYnRbx8e3tQP1s2d+hBaKwcZr4fuiHC4wj0bGz9cEbZ5L6AqEdgXe+rJfu\n",
       "NKTUk4sF+BBy9UHT0Oi3h4l9lgbrgsoBsY66ykiXc/bQa22BAAAAg0Gbe0nhDyZTAgj//rUqgAUo\n",
       "c/WvnCfw0AH8E50frBJoyKkn+WZVn2Ie8kT+e77oussQQrkEcXwH9s8eJHILARqxS4XOCIjg0stk\n",
       "sv2YPyWA7i3pUhHX+q9TOA61Z1bqOB9/1j6TYj/ltr65Nkxgau/guL7cHFbz9PpB0owK7+fH3dsg\n",
       "AAAAhUGbnEnhDyZTAgj//rUqgAUoc/atABEjSmF6Lfv9PL8dFsHhs9vQ6BkLVdn+FlT+ZE3oNv7v\n",
       "U0QkQSslPyoT74xjq2A3XZufNgPWmYx62tnonPdIfkXlfgEVlvs0EJppGsrORiPgZNCh1ewsHoLO\n",
       "WHm1qF5RY3NS5DKMmodwz/Er9OvIs8EAAABnQZu9SeEPJlMCCP/+tSqABShz9q0AFb+JuuHjzCvI\n",
       "1d4KZZTAA9Bkp0ewwJt+c1Uhs+l9HJvgm1zyRqWf18BHH2Ev9/XEYFtJjcMMGXQX3PrPu8LfoIIt\n",
       "MVBOe2XM4Ql8k1snO5dDxQAAAIhBm95J4Q8mUwII//61KoAFL+hVO+hikLa4TINL4c5S5/cegQ86\n",
       "sfGZse0Tc1XcHLuuTjdmrttvzTgTPTgeMWr+/RMiSeP+hhRQ89tcH3DM4WAXJgLYDtcLpqsG8r9r\n",
       "oZv+fCkmwxn8f8vH99W8FECZ54vC8vHFE3jJ53O/7gVtBEAPc4qB+BiAAAAAjUGb/0nhDyZTAgj/\n",
       "/rUqgAUEc/hQMAF1VGGu0ftOuThXEnVhg3rjbeTdY73MIaMaRStdKdMwA3Nk2AhCu2rjuzLo+mMf\n",
       "fj5Nu3AwTSnTOZg8qBnI1ADMJo8nk+/nUfQqLttHuXtfu8yuD6qEMZJZyTd4Pw+ioARfLrYcMmr8\n",
       "UFsm06nnmd0UnniJFCBagAAAAIJBmgBJ4Q8mUwII//61KoAFBHOetAA3QL9jtHR5FmrGeeB4S/re\n",
       "78W3b9srOttT9/lN/VpJ7BPwLNbOD7KfwPBHD1LvLcI2GnTsht5F/lEFDXkc3S41SHlwUojEhrp3\n",
       "7SvalSWq6xwp8coGU9Rc4ahJ5BI/cN0m/y7dDDwVUHslSDIxAAAAekGaIUnhDyZTAgh//qpVAAoH\n",
       "IovIABCPHPsUCubfIb+tbiSqJulBhZi7ROp73pCp8RwC7nwWPp4oE226XUFmSgM8yNxYaV9pnePX\n",
       "JmE/9mQ6xgIpwX44LU+K/DEeseLbNicIp4fBmdVMP9pBlAOvXYSYR5bB94PjTFSMAAAAXkGaQknh\n",
       "DyZTAh///qmWACc/MNkIB249pKRuiJRGTxhKAEtkw3Bz6R58c1DH2F/oUlnKbb06s3V750fLOuvn\n",
       "BhraTOYm+FR4mFhNQLFRn8dVuNVUU0CqHQtTp7VzUnkAAAPCbW9vdgAAAGxtdmhkAAAAAAAAAAAA\n",
       "AAAAAAAD6AAAG1gAAQAAAQAAAAAAAAAAAAAAAAEAAAAAAAAAAAAAAAAAAAABAAAAAAAAAAAAAAAA\n",
       "AABAAAAAAAAAAAAAAAAAAAAAAAAAAAAAAAAAAAAAAAAAAgAAAux0cmFrAAAAXHRraGQAAAADAAAA\n",
       "AAAAAAAAAAABAAAAAAAAG1gAAAAAAAAAAAAAAAAAAAAAAAEAAAAAAAAAAAAAAAAAAAABAAAAAAAA\n",
       "AAAAAAAAAABAAAAAAbAAAAEgAAAAAAAkZWR0cwAAABxlbHN0AAAAAAAAAAEAABtYAAAQAAABAAAA\n",
       "AAJkbWRpYQAAACBtZGhkAAAAAAAAAAAAAAAAAAAoAAABGABVxAAAAAAALWhkbHIAAAAAAAAAAHZp\n",
       "ZGUAAAAAAAAAAAAAAABWaWRlb0hhbmRsZXIAAAACD21pbmYAAAAUdm1oZAAAAAEAAAAAAAAAAAAA\n",
       "ACRkaW5mAAAAHGRyZWYAAAAAAAAAAQAAAAx1cmwgAAAAAQAAAc9zdGJsAAAAs3N0c2QAAAAAAAAA\n",
       "AQAAAKNhdmMxAAAAAAAAAAEAAAAAAAAAAAAAAAAAAAAAAbABIABIAAAASAAAAAAAAAABAAAAAAAA\n",
       "AAAAAAAAAAAAAAAAAAAAAAAAAAAAAAAAAAAAGP//AAAAMWF2Y0MBZAAV/+EAGGdkABWs2UGwloQA\n",
       "AAMABAAAAwAoPFi2WAEABmjr48siwAAAABx1dWlka2hA8l8kT8W6OaUbzwMj8wAAAAAAAAAYc3R0\n",
       "cwAAAAAAAAABAAAAIwAACAAAAAAUc3RzcwAAAAAAAAABAAAAAQAAABhjdHRzAAAAAAAAAAEAAAAj\n",
       "AAAQAAAAABxzdHNjAAAAAAAAAAEAAAABAAAAIwAAAAEAAACgc3RzegAAAAAAAAAAAAAAIwAAEToA\n",
       "AAFUAAAAhgAAAIwAAABxAAAAiAAAAIoAAAB8AAAAdwAAAIIAAACOAAAAkAAAAIIAAAB0AAAAiQAA\n",
       "AKwAAAB5AAAAfQAAAGsAAABqAAAAXQAAAH0AAAB2AAAAfwAAAHEAAACHAAAAeAAAAIcAAACJAAAA\n",
       "awAAAIwAAACRAAAAhgAAAH4AAABiAAAAFHN0Y28AAAAAAAAAAQAAACwAAABidWR0YQAAAFptZXRh\n",
       "AAAAAAAAACFoZGxyAAAAAAAAAABtZGlyYXBwbAAAAAAAAAAAAAAAAC1pbHN0AAAAJal0b28AAAAd\n",
       "ZGF0YQAAAAEAAAAATGF2ZjU2LjQwLjEwMQ==\n",
       "\">\n",
       "  Your browser does not support the video tag.\n",
       "</video>"
      ],
      "text/plain": [
       "<IPython.core.display.HTML object>"
      ]
     },
     "execution_count": 45,
     "metadata": {},
     "output_type": "execute_result"
    }
   ],
   "source": [
    "# THIS WILL ONLY WORK WHEN RUN AS A NOTEBOOK\n",
    "# GITHUB WILL SEE THIS AS STATIC HTML\n",
    "from matplotlib import animation, rc\n",
    "from IPython.display import HTML\n",
    "\n",
    "### PARAMETERS\n",
    "L = 2.0\n",
    "nx = 81\n",
    "dx = L / (nx -1)\n",
    "nt = 35\n",
    "dt = 0.025\n",
    "c = 1.0\n",
    "\n",
    "u = np.ones(nx)\n",
    "u[int(0.5 / dx): int(1/dx+1)] = 2\n",
    "un = np.ones(nx)\n",
    "\n",
    "def animate(n):\n",
    "    un = u.copy()\n",
    "    for i in range(1, nx):\n",
    "        u[i] = un[i] - c *(dt/dx)*(un[i] - un[i-1])\n",
    "\n",
    "    line.set_data(np.linspace(0, 2, nx), u)\n",
    "    return (line,)\n",
    "\n",
    "fig, ax = plt.subplots()\n",
    "ax.set_xlim((0, 2))\n",
    "ax.set_ylim((0, 2.5))\n",
    "line, = ax.plot([], [], lw=2)\n",
    "\n",
    "\n",
    "anim = animation.FuncAnimation(fig, animate, frames=nt, blit=True)\n",
    "plt.close()\n",
    "HTML(anim.to_html5_video())"
   ]
  },
  {
   "cell_type": "code",
   "execution_count": null,
   "metadata": {
    "collapsed": true
   },
   "outputs": [],
   "source": []
  }
 ],
 "metadata": {
  "kernelspec": {
   "display_name": "Python 3",
   "language": "python",
   "name": "python3"
  },
  "language_info": {
   "codemirror_mode": {
    "name": "ipython",
    "version": 3
   },
   "file_extension": ".py",
   "mimetype": "text/x-python",
   "name": "python",
   "nbconvert_exporter": "python",
   "pygments_lexer": "ipython3",
   "version": "3.6.4"
  }
 },
 "nbformat": 4,
 "nbformat_minor": 2
}
