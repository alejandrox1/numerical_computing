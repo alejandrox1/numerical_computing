{
 "cells": [
  {
   "cell_type": "code",
   "execution_count": 9,
   "metadata": {
    "collapsed": true
   },
   "outputs": [],
   "source": [
    "import matplotlib.pyplot as plt\n",
    "import numpy as np\n",
    "import math"
   ]
  },
  {
   "cell_type": "code",
   "execution_count": 5,
   "metadata": {
    "collapsed": true
   },
   "outputs": [],
   "source": [
    "def get_sign(num):\n",
    "    if num >= 0:\n",
    "        return \"+\"\n",
    "    return \"-\""
   ]
  },
  {
   "cell_type": "markdown",
   "metadata": {},
   "source": [
    "# Bisection Method\n",
    "\n",
    "Let $f$ be a continuous function in the interval $[a, b]$, satsfying $f(a) f(b) < 0$.\n",
    "Then $f$ has a root between $a$ and $b$, that is, there is a number $r$ satisfying $a < r <b$ and $f(r)=0$.\n",
    "\n",
    "If $[a, b]$ is the starting interval, then after $n$ iterations of the bisection method, the solution interval will have length $(b-a)/2^n$.\n",
    "Choosing the midpoint between the resultant interval, $[a_n, b_n]$ will be our best estimate to the true solution $r$.\n",
    "\n",
    "Solution error:\n",
    "$$\n",
    "|x_c - r| \n",
    "< \\frac{b-a}{2^{n+1}}\n",
    "$$"
   ]
  },
  {
   "cell_type": "markdown",
   "metadata": {},
   "source": [
    "## Error to $p$ decimal places\n",
    "\n",
    "To decide how many steps to run the bisection method for in order to be correct to within so many decimal places we can use the error formula from above.\n",
    "\n",
    "For example, let's say we want to find the root of an equation to within six correct places (we want the error to be less than $0.5 \\times 10^{-p}$).\n",
    "\n",
    "After $n$ steps, we know the error will be approximately $1/2^{n+1}$.\n",
    "So we need to find an $n$ such that\n",
    "$$\n",
    "\\frac{1}{2^{n+1}} \\lt 0.5 \\times 10^{-6}\n",
    "$$\n",
    "\n",
    "...solve for $n$..."
   ]
  },
  {
   "cell_type": "code",
   "execution_count": 8,
   "metadata": {
    "collapsed": true
   },
   "outputs": [],
   "source": [
    "def bisection_method(func, a, b, TOL=1.0e-3):\n",
    "    assert(func(a) * func(b) < 0.0)\n",
    "    \n",
    "    i = 0\n",
    "    a, b, c = float(a), float(b), None\n",
    "    while (b-a)/2. > TOL:\n",
    "        c = (a+b)/2.\n",
    "        print(\"{:>2}) {:^9.6f} {:^9.6f} {:^9.6f}\".format(i, a, c, b))\n",
    "        \n",
    "        if func(c)==0.0:\n",
    "            return c\n",
    "        if func(a) * func(c) < 0.0:\n",
    "            b = c\n",
    "        else:\n",
    "            a = c\n",
    "        i += 1\n",
    "    \n",
    "    return c\n",
    "\n",
    "def bisection_method(func, a, b, TOL=1.0e-3):\n",
    "    \"\"\" Bisection Method \n",
    "    \n",
    "        With n + 2 function evaluations per call.\n",
    "    \n",
    "    Params\n",
    "    ------\n",
    "    func : func\n",
    "        Function whose root we are looking for.\n",
    "    a : float\n",
    "        Lower bound for solution inerval.\n",
    "    b : float\n",
    "        Upper bound for solution interval.\n",
    "    TOL : float (default=1.0e-3)\n",
    "        Tolerance.\n",
    "        \n",
    "    Returns\n",
    "    -------\n",
    "    c: float, None\n",
    "        Best estimate of the root to func.\n",
    "    \"\"\"\n",
    "    assert(func(a) * func(b) < 0.0)\n",
    "    \n",
    "    i = 0\n",
    "    a, b, c = float(a), float(b), None\n",
    "    fa, fb = func(a), func(b)\n",
    "    while (b-a)/2. > TOL:\n",
    "        c = (a+b)/2.\n",
    "        fc = func(c)\n",
    "        sa, sc, sb = get_sign(fa), get_sign(fc), get_sign(fb)\n",
    "        print(\"{:>2}) {:^9.6f} ({}) {:^9.6f} ({}) {:^9.6f} ({})\".format(i, a, sa, c, sc, b, sb))\n",
    "        \n",
    "        if fc==0.0:\n",
    "            return c\n",
    "        if fa * fc < 0.0:\n",
    "            b = c\n",
    "            fb = fc\n",
    "        else:\n",
    "            a = c\n",
    "            fa = fc\n",
    "        i += 1\n",
    "    \n",
    "    return c"
   ]
  },
  {
   "cell_type": "code",
   "execution_count": 9,
   "metadata": {},
   "outputs": [
    {
     "name": "stdout",
     "output_type": "stream",
     "text": [
      " 0) 0.000000  (-) 0.500000  (-) 1.000000  (+)\n",
      " 1) 0.500000  (-) 0.750000  (+) 1.000000  (+)\n",
      " 2) 0.500000  (-) 0.625000  (-) 0.750000  (+)\n",
      " 3) 0.625000  (-) 0.687500  (+) 0.750000  (+)\n",
      " 4) 0.625000  (-) 0.656250  (-) 0.687500  (+)\n",
      " 5) 0.656250  (-) 0.671875  (-) 0.687500  (+)\n",
      " 6) 0.671875  (-) 0.679688  (-) 0.687500  (+)\n",
      " 7) 0.679688  (-) 0.683594  (+) 0.687500  (+)\n",
      " 8) 0.679688  (-) 0.681641  (-) 0.683594  (+)\n",
      " 9) 0.681641  (-) 0.682617  (+) 0.683594  (+)\n",
      "10) 0.681641  (-) 0.682129  (-) 0.682617  (+)\n",
      "11) 0.682129  (-) 0.682373  (+) 0.682617  (+)\n",
      "12) 0.682129  (-) 0.682251  (-) 0.682373  (+)\n",
      "13) 0.682251  (-) 0.682312  (-) 0.682373  (+)\n",
      "14) 0.682312  (-) 0.682343  (+) 0.682373  (+)\n",
      "15) 0.682312  (-) 0.682327  (-) 0.682343  (+)\n",
      "0.682327\n"
     ]
    }
   ],
   "source": [
    "f = lambda x: x**3 + x -1\n",
    "c = bisection_method(f, 0, 1, TOL=1.0e-5)\n",
    "print('{:.6f}'.format(c))"
   ]
  },
  {
   "cell_type": "code",
   "execution_count": 10,
   "metadata": {},
   "outputs": [
    {
     "name": "stdout",
     "output_type": "stream",
     "text": [
      " 0) 0.000000  (+) 0.500000  (+) 1.000000  (-)\n",
      " 1) 0.500000  (+) 0.750000  (-) 1.000000  (-)\n",
      " 2) 0.500000  (+) 0.625000  (+) 0.750000  (-)\n",
      " 3) 0.625000  (+) 0.687500  (+) 0.750000  (-)\n",
      " 4) 0.687500  (+) 0.718750  (+) 0.750000  (-)\n",
      " 5) 0.718750  (+) 0.734375  (+) 0.750000  (-)\n",
      " 6) 0.734375  (+) 0.742188  (-) 0.750000  (-)\n",
      " 7) 0.734375  (+) 0.738281  (+) 0.742188  (-)\n",
      " 8) 0.738281  (+) 0.740234  (-) 0.742188  (-)\n",
      " 9) 0.738281  (+) 0.739258  (-) 0.740234  (-)\n",
      "10) 0.738281  (+) 0.738770  (+) 0.739258  (-)\n",
      "11) 0.738770  (+) 0.739014  (+) 0.739258  (-)\n",
      "12) 0.739014  (+) 0.739136  (-) 0.739258  (-)\n",
      "13) 0.739014  (+) 0.739075  (+) 0.739136  (-)\n",
      "14) 0.739075  (+) 0.739105  (-) 0.739136  (-)\n",
      "15) 0.739075  (+) 0.739090  (-) 0.739105  (-)\n",
      "16) 0.739075  (+) 0.739082  (+) 0.739090  (-)\n",
      "17) 0.739082  (+) 0.739086  (-) 0.739090  (-)\n",
      "18) 0.739082  (+) 0.739084  (+) 0.739086  (-)\n",
      "19) 0.739084  (+) 0.739085  (-) 0.739086  (-)\n",
      "0.739085\n"
     ]
    }
   ],
   "source": [
    "# Find a root to whithin 6 correct places\n",
    "f = lambda x: math.cos(x) - x\n",
    "c = bisection_method(f, 0, 1, TOL=0.5e-6)\n",
    "print('{:.6f}'.format(c))"
   ]
  },
  {
   "cell_type": "markdown",
   "metadata": {
    "collapsed": true
   },
   "source": [
    "# Fixed-Point Iteration\n",
    "\n",
    "A real number $r$ is a fixed point of the function $g$ if $g(r) = r$. \n",
    "\n",
    "Start by rewriting the problem to fit the form $g(x) = x$, then make an initial guess and iterate away until you see some convergence.\n",
    "```\n",
    "x[0] = <initial guess>\n",
    "x[i+1] = g(x[i])\n",
    "```"
   ]
  },
  {
   "cell_type": "code",
   "execution_count": 3,
   "metadata": {},
   "outputs": [
    {
     "name": "stdout",
     "output_type": "stream",
     "text": [
      "0.8775825618903728\n",
      "0.6390124941652592\n",
      "0.8026851006823349\n",
      "0.6947780267880062\n",
      "0.7681958312820161\n",
      "0.719165445942419\n",
      "0.752355759421527\n",
      "0.7300810631378233\n",
      "0.7451203413514401\n",
      "0.7350063090148431\n"
     ]
    }
   ],
   "source": [
    "x = 0.5\n",
    "for _ in range(10):\n",
    "    x = math.cos(x)\n",
    "    print(x)"
   ]
  },
  {
   "cell_type": "code",
   "execution_count": 4,
   "metadata": {
    "collapsed": true
   },
   "outputs": [],
   "source": [
    "def fpi(func, x0, steps):\n",
    "    \"\"\" Fixed Point Iteration\n",
    "    \n",
    "        Computes approximate solution to g(x) = x\n",
    "        \n",
    "    Params\n",
    "    ------\n",
    "    func : func\n",
    "    x0 : float\n",
    "        Initial guess.\n",
    "    steps : int\n",
    "        Number of fpi steps.\n",
    "        \n",
    "    returns\n",
    "    -------\n",
    "    xc : float\n",
    "        Approximate solution.\n",
    "    \"\"\"\n",
    "    x = [0]*(steps+1)\n",
    "    x[0] = x0\n",
    "    for i in range(steps):\n",
    "        x[i+1] = func(x[i])\n",
    "    xc = x[steps]\n",
    "    return x"
   ]
  },
  {
   "cell_type": "code",
   "execution_count": 5,
   "metadata": {},
   "outputs": [
    {
     "name": "stdout",
     "output_type": "stream",
     "text": [
      "0.7390959998357547\n"
     ]
    }
   ],
   "source": [
    "x = fpi(math.cos, 0.5, 25)\n",
    "print(x[-1])"
   ]
  },
  {
   "cell_type": "markdown",
   "metadata": {},
   "source": [
    "Find the roots to\n",
    "$$\n",
    "x^3 + x - 1 = 0.\n",
    "$$\n",
    "This equation can be rewriten as,\n",
    "$$\n",
    "x = 1- x^3\n",
    "$$\n",
    "Alternatively, the $x^3$ can be isolated,\n",
    "$$\n",
    "x = \\left( 1 - x \\right)^3\n",
    "$$\n",
    "Or, by adding $2x^3$ to both sides\n",
    "$$\n",
    "3x^3 + x = 1 + 2x^3\n",
    "$$\n",
    "$$\n",
    "(3x^2 + 1)x = 1 + 2x^3\n",
    "$$\n",
    "which leads to \n",
    "$$\n",
    "x = \\frac{1+2x^3}{1 + 3x^2}\n",
    "$$"
   ]
  },
  {
   "cell_type": "code",
   "execution_count": 6,
   "metadata": {},
   "outputs": [
    {
     "name": "stdout",
     "output_type": "stream",
     "text": [
      " 0) 0.5000000000\n",
      " 1) 0.8750000000\n",
      " 2) 0.3300781250\n",
      " 3) 0.9640374705\n",
      " 4) 0.1040541883\n",
      " 5) 0.9988733768\n",
      " 6) 0.0033760632\n",
      " 7) 0.9999999615\n",
      " 8) 0.0000001154\n",
      " 9) 1.0000000000\n",
      "10) 0.0000000000\n",
      "11) 1.0000000000\n",
      "12) 0.0000000000\n"
     ]
    }
   ],
   "source": [
    "x = fpi(lambda x: 1- x**3, 0.5, 12)\n",
    "for i in range(len(x)):\n",
    "    print(\"{:>2}) {:.10f}\".format(i, x[i]))"
   ]
  },
  {
   "cell_type": "code",
   "execution_count": 7,
   "metadata": {
    "scrolled": true
   },
   "outputs": [
    {
     "name": "stdout",
     "output_type": "stream",
     "text": [
      " 0) 0.5000000000\n",
      " 1) 0.7142857143\n",
      " 2) 0.6831797235\n",
      " 3) 0.6823284233\n",
      " 4) 0.6823278038\n",
      " 5) 0.6823278038\n",
      " 6) 0.6823278038\n",
      " 7) 0.6823278038\n",
      " 8) 0.6823278038\n"
     ]
    }
   ],
   "source": [
    "x = fpi(lambda x: (1+2*x**3)/(1+3*x**2), 0.5, 8)\n",
    "for i in range(len(x)):\n",
    "    print(\"{:>2}) {:.10f}\".format(i, x[i]))"
   ]
  },
  {
   "cell_type": "code",
   "execution_count": 25,
   "metadata": {},
   "outputs": [
    {
     "data": {
      "image/png": "[encoded data removed]",
      "text/plain": [
       "<matplotlib.figure.Figure at 0x7fa4a1f416a0>"
      ]
     },
     "metadata": {},
     "output_type": "display_data"
    }
   ],
   "source": [
    "x = np.arange(0.6, 0.75, 0.01)\n",
    "f1 = lambda x: 1- x**3\n",
    "f2 = lambda x: (1+2*x**3)/(1+3*x**2)\n",
    "\n",
    "fig = plt.figure(figsize=(20,5))\n",
    "ax1 = fig.add_subplot(121)\n",
    "ax2 = fig.add_subplot(122)\n",
    "\n",
    "ax1.plot(0.6823278038, 0.6823278038, 'bo')\n",
    "ax2.plot(0.6823278038, 0.6823278038, 'bo')\n",
    "ax1.plot(x, f1(x), label=r\"$1-x^3$\")\n",
    "ax2.plot(x, f2(x), label=r\"$\\frac{1+2x^3}{1+3x^2}$\")\n",
    "\n",
    "ax1.legend(prop={'size':15})\n",
    "ax2.legend(prop={'size':15})\n",
    "plt.show()"
   ]
  },
  {
   "cell_type": "markdown",
   "metadata": {},
   "source": [
    "## Linear convergence of FPI\n",
    "\n",
    "As you may have guesses, from looking at the graphs, the convergence has something to do with the slope, may we dare even suggest that it is in fact the slope near the fixed-point?\n",
    "\n",
    "In fact, if the slope near the fixed-point is greater than one, then each iteration will get farther and farther away.\n",
    "\n",
    "Let's define the error at step $i$ as $e_i = |r - x_i|$.\n",
    "The following definition will actually suffice for any iterative method:\n",
    "$$\n",
    "\\lim_{i\\to\\infty} \\frac{e_{i+1}}{e_i} = S \\lt 1\n",
    "$$\n",
    "\n",
    "If such condition holds then method is said to obey linear convergence with rate $S$, and yes! $S = |g^\\prime (r)|$."
   ]
  },
  {
   "cell_type": "markdown",
   "metadata": {
    "collapsed": true
   },
   "source": [
    "# Newton's Method"
   ]
  },
  {
   "cell_type": "markdown",
   "metadata": {},
   "source": [
    "The point-slope formula for the equation of a line is\n",
    "$$\n",
    "y - f(x_0) = f^{\\prime}(x_0)(x - x_0).\n",
    "$$\n",
    "\n",
    "If we look for an intersection point of the tangent line withteh x-axis ($y=0$),\n",
    "$$\n",
    "0 - f(x_0) =  f^{\\prime}(x - x_0)\n",
    "$$\n",
    "or\n",
    "$$\n",
    "x = x_0 - \\frac{f(x_0)}{f^{\\prime}(x_0)}\n",
    "$$\n",
    "\n",
    "```\n",
    "x0 # Initial guess\n",
    "xnew = xi - f(xi)/fprime(xi)\n",
    "```\n",
    "\n",
    "For the sake of development we will revisit Newthon-Raphson method again when we know how to take derivatives!"
   ]
  },
  {
   "cell_type": "markdown",
   "metadata": {
    "collapsed": true
   },
   "source": [
    "# Secant Method\n",
    "\n",
    "The tangent line from Newton's method is replaced by a line going through the last two guesses.\n",
    "\n",
    "An approximation for the derivative at the current gess $x_i$ is,\n",
    "$$\n",
    "\\frac{f(x_i) - f(x_{i-1})}{x_i - x_{i-1}}\n",
    "$$\n",
    "\n",
    "```\n",
    "x0, x1    # Initial guesses\n",
    "xnew = x - ( f(x) * f(x - xp) )/( f(x) - f(xp) )\n",
    "```"
   ]
  },
  {
   "cell_type": "markdown",
   "metadata": {},
   "source": [
    "# Method of False Position"
   ]
  },
  {
   "cell_type": "markdown",
   "metadata": {},
   "source": [
    "# Mueller's Method"
   ]
  },
  {
   "cell_type": "markdown",
   "metadata": {},
   "source": [
    "# Inverse Quadratic Interpolation"
   ]
  },
  {
   "cell_type": "markdown",
   "metadata": {},
   "source": [
    "# Brent's Method"
   ]
  },
  {
   "cell_type": "code",
   "execution_count": null,
   "metadata": {
    "collapsed": true
   },
   "outputs": [],
   "source": []
  }
 ],
 "metadata": {
  "kernelspec": {
   "display_name": "Python 3",
   "language": "python",
   "name": "python3"
  },
  "language_info": {
   "codemirror_mode": {
    "name": "ipython",
    "version": 3
   },
   "file_extension": ".py",
   "mimetype": "text/x-python",
   "name": "python",
   "nbconvert_exporter": "python",
   "pygments_lexer": "ipython3",
   "version": "3.6.4"
  }
 },
 "nbformat": 4,
 "nbformat_minor": 2
}
