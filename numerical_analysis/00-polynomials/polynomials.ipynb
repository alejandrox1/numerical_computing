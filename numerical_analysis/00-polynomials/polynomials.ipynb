{
 "cells": [
  {
   "cell_type": "code",
   "execution_count": null,
   "metadata": {
    "collapsed": true
   },
   "outputs": [],
   "source": []
  },
  {
   "cell_type": "markdown",
   "metadata": {},
   "source": [
    "# Horner's method - Nested multiplication"
   ]
  },
  {
   "cell_type": "code",
   "execution_count": 57,
   "metadata": {},
   "outputs": [],
   "source": [
    "def horner(d, coefs, x, b=None):\n",
    "    \"\"\"\n",
    "    Params\n",
    "    ------\n",
    "    d : int\n",
    "        degree of polynomial.\n",
    "    coefs : array\n",
    "        d+1 coefficients (constant term first).\n",
    "    x : float\n",
    "        Point at which to evaluate.\n",
    "    b : array, optional\n",
    "        Array of d base points if needed.\n",
    "        \n",
    "    Returns\n",
    "    -------\n",
    "    y : float\n",
    "        Value of polynomial at x.\n",
    "    \"\"\"\n",
    "    if b is None:\n",
    "        b = [0]*len(coefs)\n",
    "        \n",
    "    y = coefs[d]\n",
    "    for i in range(d-1,-1,-1):\n",
    "        y = y * (x - b[i]) + coefs[i]\n",
    "    \n",
    "    return y"
   ]
  },
  {
   "cell_type": "code",
   "execution_count": 58,
   "metadata": {},
   "outputs": [
    {
     "name": "stdout",
     "output_type": "stream",
     "text": [
      "1.25\n"
     ]
    }
   ],
   "source": [
    "y = horner(4, [-1, 5, -3, 3, 2], 0.5)\n",
    "print(y)\n",
    "assert y == 1.25"
   ]
  },
  {
   "cell_type": "code",
   "execution_count": 60,
   "metadata": {},
   "outputs": [
    {
     "name": "stdout",
     "output_type": "stream",
     "text": [
      "0.0\n"
     ]
    }
   ],
   "source": [
    "y = horner(3, [1, 1/2, 1/2, -1/2], 1, [0, 2, 3])\n",
    "print(y)\n",
    "assert y == 0"
   ]
  },
  {
   "cell_type": "code",
   "execution_count": null,
   "metadata": {
    "collapsed": true
   },
   "outputs": [],
   "source": []
  }
 ],
 "metadata": {
  "kernelspec": {
   "display_name": "Python 3",
   "language": "python",
   "name": "python3"
  },
  "language_info": {
   "codemirror_mode": {
    "name": "ipython",
    "version": 3
   },
   "file_extension": ".py",
   "mimetype": "text/x-python",
   "name": "python",
   "nbconvert_exporter": "python",
   "pygments_lexer": "ipython3",
   "version": "3.6.4"
  }
 },
 "nbformat": 4,
 "nbformat_minor": 2
}
