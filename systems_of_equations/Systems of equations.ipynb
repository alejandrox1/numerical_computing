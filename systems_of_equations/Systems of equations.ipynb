{
 "cells": [
  {
   "cell_type": "markdown",
   "metadata": {},
   "source": [
    "# Naive Gaussian Elimination\n",
    "\n",
    "Three operations applied to a system of linear equations which yield an equivalent system:\n",
    "1. Swap one equation for another\n",
    "2. Add or subtract a multiple of one euqation from another\n",
    "3. Multiply an equation by a non-zero constant\n",
    "\n",
    "Suppose we have,\n",
    "$$ x + y = 3 $$\n",
    "$$ 3x - 4y = 2 $$\n",
    "by subtracting 3 times the first equation from the second equation\n",
    "$$ x + y = 3$$\n",
    "$$ - 7y = - y $$\n",
    "We can then backsolve to a solution $(x, y) = (2, 1)$.\n",
    "\n",
    "\n",
    "Foreshadowing Gaussian elimination,\n",
    "\n",
    "$$\n",
    "\\left[\n",
    "\\begin{array}{cc|c}\n",
    " 1 & 1 & 3\\\\\n",
    " 3 & -4 & 2 \\\\\n",
    "\\end{array}\n",
    "\\right]\n",
    "$$\n",
    "Becomes,\n",
    "$$\n",
    "\\left[\n",
    "\\begin{array}{cc|c}\n",
    " 1 & 1 & 3\\\\\n",
    " 0 & -7 & -7 \\\\\n",
    "\\end{array}\n",
    "\\right]\n",
    "$$\n",
    "after subtracting 3 times the first row from the first row."
   ]
  },
  {
   "cell_type": "markdown",
   "metadata": {},
   "source": [
    "$$\n",
    "\\left[\n",
    "\\begin{array}{cccc|c}\n",
    " a_{11} & a_{12} & \\cdots & a_{1n} & b_1 \\\\\n",
    " a_{21} & a_{22} & \\cdots & a_{2n} & b_2 \\\\\n",
    " \\vdots & \\vdots & \\cdots & \\vdots & \\vdots \\\\\n",
    " a_{n1} & a_{n2} & \\cdots & a_{nn} & b_n \\\\\n",
    "\\end{array}\n",
    "\\right]\n",
    "$$\n",
    "\n",
    "**elimination step:** To carry out this step, we need to put zeros in the lower triangular area of the augmented matrix - use row operations to put a zero in each location below the diagonal.\n",
    "The location sof the main diagonal are then given by $a_{j+1,j}, a_{j+2,j},...,a_{nj}$.\n",
    "```\n",
    "for j in range(n-1):\n",
    "    eliminate column j\n",
    "```"
   ]
  },
  {
   "cell_type": "code",
   "execution_count": null,
   "metadata": {
    "collapsed": true
   },
   "outputs": [],
   "source": []
  }
 ],
 "metadata": {
  "kernelspec": {
   "display_name": "Python 3",
   "language": "python",
   "name": "python3"
  },
  "language_info": {
   "codemirror_mode": {
    "name": "ipython",
    "version": 3
   },
   "file_extension": ".py",
   "mimetype": "text/x-python",
   "name": "python",
   "nbconvert_exporter": "python",
   "pygments_lexer": "ipython3",
   "version": "3.6.1"
  }
 },
 "nbformat": 4,
 "nbformat_minor": 2
}
