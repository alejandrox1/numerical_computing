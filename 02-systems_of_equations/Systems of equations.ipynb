{
 "cells": [
  {
   "cell_type": "markdown",
   "metadata": {},
   "source": [
    "# On this notebook...\n",
    "\n",
    "* Gaussian Elimination for common systems\n",
    "* Iterative methods for large systems\n",
    "* Methods for systems of nonlinear equations"
   ]
  },
  {
   "cell_type": "code",
   "execution_count": 1,
   "metadata": {
    "collapsed": true
   },
   "outputs": [],
   "source": [
    "import numpy as np"
   ]
  },
  {
   "cell_type": "markdown",
   "metadata": {},
   "source": [
    "# Naive Gaussian Elimination\n",
    "\n",
    "Three operations applied to a system of linear equations which yield an equivalent system:\n",
    "1. Swap one equation for another\n",
    "2. Add or subtract a multiple of one euqation from another\n",
    "3. Multiply an equation by a non-zero constant\n",
    "\n",
    "Suppose we have,\n",
    "$$ x + y = 3 $$\n",
    "$$ 3x - 4y = 2 $$\n",
    "by subtracting 3 times the first equation from the second equation\n",
    "$$ x + y = 3$$\n",
    "$$ - 7y = - y $$\n",
    "We can then backsolve to a solution $(x, y) = (2, 1)$.\n",
    "\n",
    "\n",
    "Foreshadowing Gaussian elimination,\n",
    "\n",
    "$$\n",
    "\\left[\n",
    "\\begin{array}{cc|c}\n",
    " 1 & 1 & 3\\\\\n",
    " 3 & -4 & 2 \\\\\n",
    "\\end{array}\n",
    "\\right]\n",
    "$$\n",
    "Becomes,\n",
    "$$\n",
    "\\left[\n",
    "\\begin{array}{cc|c}\n",
    " 1 & 1 & 3\\\\\n",
    " 0 & -7 & -7 \\\\\n",
    "\\end{array}\n",
    "\\right]\n",
    "$$\n",
    "after subtracting 3 times the first row from the first row."
   ]
  },
  {
   "cell_type": "markdown",
   "metadata": {},
   "source": [
    "We can generelize this. Assume we have a system on $n$ equations and $n$ unkowns\n",
    "$$\n",
    "\\left[\n",
    "\\begin{array}{cccc|c}\n",
    " a_{11} & a_{12} & \\cdots & a_{1n} & b_1 \\\\\n",
    " a_{21} & a_{22} & \\cdots & a_{2n} & b_2 \\\\\n",
    " \\vdots & \\vdots & \\cdots & \\vdots & \\vdots \\\\\n",
    " a_{n1} & a_{n2} & \\cdots & a_{nn} & b_n \\\\\n",
    "\\end{array}\n",
    "\\right]\n",
    "$$"
   ]
  },
  {
   "cell_type": "markdown",
   "metadata": {},
   "source": [
    "### Elimination step\n",
    "To carry out this step, we need to put zeros in the lower triangular area of the augmented matrix - use row operations to put a zero in each location below the diagonal.\n",
    "The locations below the main diagonal for a given column $j$ are then given by $a_{j+1,j}, a_{j+2,j},...,a_{nj}$.\n",
    "\n",
    "For example, if we want to eliminate column 1, we need to put zeros in $a_{21}, a_{31},...,a_{n1}$.\n",
    "\n",
    "The general procedure will be as follows:\n",
    "1. We are looking to get an upper triangular matrix; we want to eliminate the entries below the diagonal for all columns except the last one (duh). So we iterate up to the next to last column.\n",
    "2. For a given column $j$, we will try and zero out all entries below the diagonal, that is, all $a_{j+1, j}$'s.\n",
    "```\n",
    "for j in range(n-1):\n",
    "    for i in range(j+1, n):\n",
    "        eliminate a[i,j]\n",
    "```\n",
    "\n",
    "This begs the question, how do we actually eliminate any entries?\n",
    "Well, if we wanted to eliminate entry $a_{21}$ we could subtract $a_{21}/a_{11}$ times row 1 from row 2 - just as we did in our first example - assuming the entry right above is not zero. In this case, $a_{11} \\ne 0$.\n",
    "\n",
    "After this is done, we choose $a_{22}$ as our next pivot and proceed accordingly.\n",
    "\n",
    "1. Iterate through the columns, from $j = 0,..,n-1$.\n",
    "2. Look for the elements below the main diagonal, $[j+1, n)$.\n",
    "3. Perform the elimination by subtracting the product of $a_{j+1, j}/a_{j, j}$ (the ratio of the first entry we are trying to eliminate in a given row and the entry right above it) and the entry in the row right above from the current spot - this boils down to subtracting the weighted entries from the row above it.\n",
    "\n",
    "```\n",
    "for j in range(n-1):                        # for all columns up to the rightmost column\n",
    "    ASSERT(abs(a[j,j]) > eps)               # proceed if pivot is greater than some mun value\n",
    "   \n",
    "    for i in range(j+1, n):                 # for each entry below the diagonal in column j\n",
    "        mult = a[i,j] / a[j,j]              # multiplying factor, divide entry by pivot\n",
    "        for k in range(j+1, n):             # for all entries in the given row\n",
    "            a[i,k] = a[i,k] - mult * a[j,k] \n",
    "        b[i] = b[i] - mult * b[j]\n",
    "```\n",
    "If $k$ ranged from $j$ to $n$ then we would put a zero in the $a_{ij}$ (the pivot) location.\n",
    "Though since we will never look back at this entry then this step is simply ignored.\n",
    "\n",
    "So to get rid of one entry we carry out 1 division, n multiplications, and n additions -> $2n + 1$ operations.\n",
    "Putting zeros in the first column would then require $n-1$ of these $2n + 1$ operations; for the second column we would need $n-2$ $2(n-1)+1$ operations, all the way up to the next to last column for a total of $2(2) + 1$.\n",
    "\n",
    "After doing some math, the total cost for the elimination step of a system of $n$ equations and $n$ variables an be completed in $\\frac{2}{3}n^3 + \\frac{1}{2}n^2 - \\frac{7}{6}n$."
   ]
  },
  {
   "cell_type": "markdown",
   "metadata": {
    "collapsed": true
   },
   "source": [
    "### Backsubstitution step\n",
    "For this step we start at the rightmost-bottom of the matrix and work our way back to the begining.\n",
    "\n",
    "```\n",
    "for i in range(n-1,-1,-1):           # Up a colum, from n-1 to 0 \n",
    "    for j in range(i+1, n-1)         # Substitute for ntries to the right, if any.\n",
    "        b[i] = b[i] - a[i,j] * x[j]  \n",
    "    x[i] = b[i] / a[i,i]\n",
    "```\n",
    "\n",
    "This step can be completed in $n^2$ steps."
   ]
  },
  {
   "cell_type": "code",
   "execution_count": 32,
   "metadata": {},
   "outputs": [],
   "source": [
    "def naive_gaussian(a, b, eps=1.0e-2):\n",
    "    n, m = a.shape\n",
    "    assert n==m\n",
    "    assert n==b.shape[0]\n",
    "    \n",
    "    for j in range(n-1):                        # for all columns up to the rightmost column\n",
    "        assert(abs(a[j,j]) > eps)               # proceed if pivot is greater than some mun value\n",
    "               \n",
    "        for i in range(j+1, n):                 # for each entry below the diagonal in column j\n",
    "            mult = a[i,j] / a[j,j]              # multiplying factor, divide entry by pivot\n",
    "            for k in range(j+1, n):             # for all entries in the given row\n",
    "                a[i,k] = a[i,k] - mult * a[j,k] \n",
    "            b[i] = b[i] - mult * b[j]\n",
    "    return a, b\n",
    "    \n",
    "def backsubstitution(a, b):\n",
    "    n = len(b)\n",
    "    x = [0]*n\n",
    "    \n",
    "    for i in range(n-1,-1,-1):           # Up a colum, from n to 0\n",
    "        for j in range(i+1, n):          # Substitute for entries to the right (if any)\n",
    "            b[i] = b[i] - a[i,j] * x[j]  \n",
    "        x[i] = b[i] / a[i,i]\n",
    "    return x"
   ]
  },
  {
   "cell_type": "code",
   "execution_count": 33,
   "metadata": {},
   "outputs": [
    {
     "name": "stdout",
     "output_type": "stream",
     "text": [
      "[[ 1  1]\n",
      " [ 3 -7]] \n",
      "\n",
      "[ 2 -7] \n",
      "\n",
      "[2.0, 1.0]\n"
     ]
    }
   ],
   "source": [
    "a = np.array([[1, 1], [3, -4]])\n",
    "b = np.array([3, 2])\n",
    "an, bn = naive_gaussian(a, b)\n",
    "x = backsubstitution(an, bn)\n",
    "print(an, '\\n')\n",
    "print(bn, '\\n')\n",
    "print(x)"
   ]
  },
  {
   "cell_type": "code",
   "execution_count": 34,
   "metadata": {},
   "outputs": [
    {
     "name": "stdout",
     "output_type": "stream",
     "text": [
      "[[ 1  2 -1]\n",
      " [ 2 -3  0]\n",
      " [-3  7 -2]] \n",
      "\n",
      "[ 3 -3 -4] \n",
      "\n",
      "[3.0, 1.0, 2.0]\n"
     ]
    }
   ],
   "source": [
    "a = np.array([[1, 2, -1], [2, 1, -2], [-3, 1, 1]])\n",
    "b = np.array([3, 3, -6])\n",
    "an, bn = naive_gaussian(a, b)\n",
    "x = backsubstitution(an, bn)\n",
    "print(an, '\\n')\n",
    "print(bn, '\\n')\n",
    "print(x)"
   ]
  },
  {
   "cell_type": "code",
   "execution_count": 35,
   "metadata": {},
   "outputs": [
    {
     "name": "stdout",
     "output_type": "stream",
     "text": [
      "[[ 1 -2  1]\n",
      " [ 2  5 -5]\n",
      " [ 4  1 -2]] \n",
      "\n",
      "[ 3 10 -2] \n",
      "\n",
      "[3.0, 2.0, 1.0]\n"
     ]
    }
   ],
   "source": [
    "a = np.array([[1, -2, 1], [2, 1, -3], [4, -7, 1]])\n",
    "b = np.array([0, 5, -1])\n",
    "an, bn = naive_gaussian(a, b)\n",
    "x = backsubstitution(an, bn)\n",
    "print(an, '\\n')\n",
    "print(bn, '\\n')\n",
    "print(x)"
   ]
  },
  {
   "cell_type": "markdown",
   "metadata": {},
   "source": [
    "# LU Factorization\n",
    "\n",
    "Matrix representation of Gaussian elimination. \n",
    "It consists of writing the the coefficients matrix $A$ as a product of a lower triangular matrix %L% and an upper triangular matrix $U$.\n",
    "\n",
    "* An $m \\times n$ matrix is a lower triangular matrix if $l_{ij}=0$ for $i<j$.\n",
    "* An $m \\times n$ matrix is an upper triangular matrix if $u_{ij}=0$ for $i>j$.\n",
    "\n",
    "\n",
    "1. Let $L_{ij} (-c)$ enote the lower triangular matrix whose only nonzero entries are 1s on the diagonal and $-c$ in the $(i,j)$ position. Then $A \\rightarrow L_{ij}(-c)A$ represents the row operation \"subtracting $c$ times row $j$ from row $i$.\"\n",
    "\n",
    "2. $L_{ij}(-c)^{-1} = L_{ij}(c)$\n",
    "\n",
    "3.\n",
    "$$\n",
    "\\left[ \\begin{array}{ccc}\n",
    "1   &   & \\\\\n",
    "c_1 & 1 & \\\\\n",
    "    &   & 1 \\\\\n",
    "\\end{array} \\right] \n",
    "\\\n",
    "\\left[ \\begin{array}{ccc}\n",
    " 1  &   &  \\\\\n",
    "    & 1 &  \\\\\n",
    "c_2 & & 1 \\\\\n",
    "\\end{array} \\right]\n",
    "\\\n",
    "\\left[ \\begin{array}{ccc}\n",
    "1 &     & \\\\\n",
    "  & 1   & \\\\\n",
    "  & c_3 & 1\n",
    "\\end{array} \\right]  \n",
    "\\\n",
    "= \\left[ \n",
    "    \\begin{array}{ccc}\n",
    "    1   &      & \\\\\n",
    "    c_1 & 1    & \\\\\n",
    "    c_2 & c_3  & 1\n",
    "\\end{array} \\right]\n",
    "$$"
   ]
  },
  {
   "cell_type": "markdown",
   "metadata": {},
   "source": [
    "Once $L$ and $U$ are known, then $Ax = LUx = Lc = b$.\n",
    "Then the backsubstitution step has two steps:\n",
    "1. Solve $Lc = b$ for $c$.\n",
    "2. Solve $Ux = c$ for $x$.\n",
    "\n",
    "The two steps are straightforward since $L$ and $U$ are triangular matrices.\n",
    "\n",
    "\n",
    "Suppose we need to solve different problems with the same $A$ but with $k$ different $b$'s.\n",
    "Classical Gaussian elimination will require approximately $kn^3$ operations.\n",
    "However, using the LU decompositon the $b$ doesn't enter until the elimination step has finished - once the decomposition $A=LU$ is complete.\n",
    "Thus the number of operations would then be $kn^3 + kn^2$."
   ]
  },
  {
   "cell_type": "code",
   "execution_count": 115,
   "metadata": {
    "collapsed": true
   },
   "outputs": [],
   "source": [
    "def LU_decomposition(a):\n",
    "    n, m = a.shape\n",
    "    assert n==m\n",
    "    assert n==b.shape[0]\n",
    "    \n",
    "    L = np.identity(m)\n",
    "    U = np.copy(a)\n",
    "    for j in range(n-1):                                       \n",
    "        for i in range(j+1, n): \n",
    "            assert a[j,j] != 0.0\n",
    "            \n",
    "            mult = a[i,j] / a[j,j]\n",
    "            L[i,j] = mult \n",
    "            for k in range(j, n): \n",
    "                op = a[i,k] - mult * a[j,k]\n",
    "                a[i,k] = op\n",
    "                U[i,k] = op\n",
    "            \n",
    "    return L, U"
   ]
  },
  {
   "cell_type": "code",
   "execution_count": 116,
   "metadata": {},
   "outputs": [
    {
     "name": "stdout",
     "output_type": "stream",
     "text": [
      "[[ 1.  0.]\n",
      " [ 3.  1.]]\n",
      "[[ 1  1]\n",
      " [ 0 -7]]\n"
     ]
    }
   ],
   "source": [
    "a = np.array([[1, 1], [3, -4]])\n",
    "b = np.array([3, 2])\n",
    "L, U = LU_decomposition(a)\n",
    "print(L)\n",
    "print(U)"
   ]
  },
  {
   "cell_type": "code",
   "execution_count": 117,
   "metadata": {},
   "outputs": [
    {
     "name": "stdout",
     "output_type": "stream",
     "text": [
      "[[ 1.          0.          0.        ]\n",
      " [ 2.          1.          0.        ]\n",
      " [-3.         -2.33333333  1.        ]]\n",
      "[[ 1  2 -1]\n",
      " [ 0 -3  0]\n",
      " [ 0  0 -2]]\n"
     ]
    }
   ],
   "source": [
    "a = np.array([[1, 2, -1], [2, 1, -2], [-3, 1, 1]])\n",
    "b = np.array([3, 3, -6])\n",
    "L, U = LU_decomposition(a)\n",
    "print(L)\n",
    "print(U)"
   ]
  },
  {
   "cell_type": "code",
   "execution_count": null,
   "metadata": {
    "collapsed": true
   },
   "outputs": [],
   "source": []
  }
 ],
 "metadata": {
  "kernelspec": {
   "display_name": "Python 3",
   "language": "python",
   "name": "python3"
  },
  "language_info": {
   "codemirror_mode": {
    "name": "ipython",
    "version": 3
   },
   "file_extension": ".py",
   "mimetype": "text/x-python",
   "name": "python",
   "nbconvert_exporter": "python",
   "pygments_lexer": "ipython3",
   "version": "3.6.4"
  }
 },
 "nbformat": 4,
 "nbformat_minor": 2
}
