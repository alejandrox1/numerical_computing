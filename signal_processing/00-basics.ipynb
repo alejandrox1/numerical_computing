{
 "cells": [
  {
   "cell_type": "code",
   "execution_count": 18,
   "metadata": {
    "collapsed": true
   },
   "outputs": [],
   "source": [
    "from ipywidgets import interact, interactive, fixed\n",
    "import ipywidgets as widgets\n",
    "from IPython.display import display\n",
    "\n",
    "from abc import ABC, abstractmethod, abstractproperty\n",
    "\n",
    "import numpy as np\n",
    "import matplotlib.pyplot as plt\n",
    "\n",
    "from wave import open as open_wave"
   ]
  },
  {
   "cell_type": "code",
   "execution_count": 52,
   "metadata": {},
   "outputs": [],
   "source": [
    "class Wave:\n",
    "    \"\"\" Discrete-time waveform. \"\"\"\n",
    "    def __init__(self, ys, ts=None, framerate=11025):\n",
    "        \"\"\"\n",
    "        Inputs\n",
    "        ------\n",
    "        ys : array-like\n",
    "            Wave array.\n",
    "        ts : array-like\n",
    "            Array of times.\n",
    "        framerate : float (default: 11025)\n",
    "            Samples per second.\n",
    "        \"\"\"\n",
    "        self.ys = np.asarray(ys)\n",
    "        self.framerate = framerate \n",
    "        if not ts is None:\n",
    "            self.ts = np.asarray(ts)\n",
    "        else:\n",
    "            self.ts = np.arange(len(ys)) / self.framerate\n",
    "            \n",
    "    def __len__(self):\n",
    "        return len(self.ys)\n",
    "    \n",
    "    @property\n",
    "    def start(self):\n",
    "        return self.ts[0]\n",
    "    \n",
    "    @property\n",
    "    def end(self):\n",
    "        return self.ts[-1]\n",
    "    \n",
    "    @property\n",
    "    def duration(self):\n",
    "        return len(self.ys) / self.framerate\n",
    "    \n",
    "    def _find_index(self, t):\n",
    "        n     = len(self)\n",
    "        start = self.start\n",
    "        end   = self.end\n",
    "        i     = round((n-1) * (t-start) / (end-start))\n",
    "        return int(i)\n",
    "    \n",
    "    def _slice(self, i, j):\n",
    "        ys = self.ys[i:j].copy()\n",
    "        ts = self.ts[i:j].copy()\n",
    "        return Wave(ys, ts, self.framerate)\n",
    "        \n",
    "    def segment(self, start=None, duration=None):\n",
    "        i, j = 0, None\n",
    "        if start is None:\n",
    "            start = self.ts[0]\n",
    "        else:\n",
    "            i = self._find_index(start)\n",
    "        if not duration is None:\n",
    "            j = self._find_index(start + duration)\n",
    "                        \n",
    "        return self._slice(i, j)\n",
    "    \n",
    "    def normalize(self, amp=1.0):\n",
    "        \"\"\"\n",
    "        Inputs\n",
    "        ------\n",
    "        amp : float\n",
    "            Max amplitude (pos or neg) in result.\n",
    "        \"\"\"\n",
    "        ys = self.ys\n",
    "        high, low = abs(max(ys)), abs(min(ys))\n",
    "        return amp * ys / max(high, low)\n",
    "    \n",
    "    def quantize(self, bound, dtype):\n",
    "        \"\"\" Quantize waveform. \n",
    "\n",
    "        Inputs\n",
    "        ------- \n",
    "        bound: maximum amplitude       \n",
    "        dtype: numpy data type of the result        \n",
    "\n",
    "        returns: quantized signal        \n",
    "        \"\"\"\n",
    "        ys = self.ys\n",
    "        if max(ys) > 1 or min(ys) < -1: \n",
    "            print(\"Warning: normalizing before quantizing.\")\n",
    "            ys = self.normalize(amp=1.0) \n",
    "\n",
    "        zs = (ys * bound).astype(dtype)  \n",
    "        return zs "
   ]
  },
  {
   "cell_type": "code",
   "execution_count": 42,
   "metadata": {
    "collapsed": true
   },
   "outputs": [],
   "source": [
    "class Signal(ABC):\n",
    "    def __init__(self):\n",
    "        super().__init__()\n",
    "        \n",
    "    def __add__(self, other):\n",
    "        if other == 0:\n",
    "            return self\n",
    "        return SumSignal(self, other)\n",
    "    __radd__ = __add__\n",
    "    \n",
    "    @abstractproperty\n",
    "    def period(self):\n",
    "        \"\"\" Period of singal in seconds.\n",
    "        \n",
    "            Default: return 0.1 seconds.\n",
    "        \"\"\"\n",
    "        return 0.1\n",
    "    \n",
    "    @abstractmethod\n",
    "    def evaluate(ts):\n",
    "        #raise NotImplementedError()\n",
    "        pass\n",
    "    \n",
    "    def make_wave(self, duration=1, start=0, framerate=11025):\n",
    "        \"\"\" Make a wake object.\n",
    "        \n",
    "        Inputs\n",
    "        -------\n",
    "        duration : float (default: 1)\n",
    "            Seconds\n",
    "        start : float (default: 0)\n",
    "            Seconds\n",
    "        framerate : int (default: 11025)\n",
    "            Frames per second.\n",
    "        \"\"\"\n",
    "        n = round(duration + framerate)\n",
    "        ts = start + np.arange(n) / framerate\n",
    "        ys = self.evaluate(ts)\n",
    "        return Wave(ys, ts, framerate=framerate)    "
   ]
  },
  {
   "cell_type": "code",
   "execution_count": 43,
   "metadata": {
    "collapsed": true
   },
   "outputs": [],
   "source": [
    "class SumSignal(Signal):              \n",
    "    \"\"\"Represents the sum of signals.\n",
    "    \n",
    "    Signals must be evaluated in a given context \n",
    "    (series of times) to have any meaning.\n",
    "    \"\"\"           \n",
    "    def __init__(self, *args):        \n",
    "        \"\"\"\n",
    "        Inputs\n",
    "        -------\n",
    "        args : tuple \n",
    "            Signals       \n",
    "        \"\"\"  \n",
    "        self.signals = args\n",
    "   \n",
    "    @property       \n",
    "    def period(self):  \n",
    "        \"\"\"Period of the signal in seconds. \n",
    " \n",
    "        This is only correct for a harmonic sequence where all \n",
    "        component frequencies are multiples of the fundamental. \n",
    "\n",
    "        Returns\n",
    "        --------\n",
    "        float \n",
    "            seconds \n",
    "        \"\"\" \n",
    "        return max(sig.period for sig in self.signals) \n",
    "\n",
    "    def evaluate(self, ts):                \n",
    "        \"\"\"Evaluates the signal at the given times.      \n",
    "          \n",
    "        Inputs\n",
    "        ------\n",
    "        ts : float \n",
    "            Array of times  \n",
    "         \n",
    "        Returns\n",
    "        -------\n",
    "        float \n",
    "            Wave array\n",
    "        \"\"\"      \n",
    "        ts = np.asarray(ts)\n",
    "        return sum(sig.evaluate(ts) for sig in self.signals)"
   ]
  },
  {
   "cell_type": "code",
   "execution_count": 44,
   "metadata": {
    "collapsed": true
   },
   "outputs": [],
   "source": [
    "class Sinusoid(Signal):\n",
    "    def __init__(self, freq=440, amp=1.0, offset=0, func=np.sin):\n",
    "        \"\"\"\n",
    "        Inputs\n",
    "        ------\n",
    "        freq : int (default: 440)\n",
    "            Frequency in Hz\n",
    "        amp : float (default: 1.0)\n",
    "            Amplitude.\n",
    "        offset : float (deafult: 0)\n",
    "            Phase offset in radians.\n",
    "        func : func (default: np.sin)\n",
    "            Function that maps pahse to amlitude.\n",
    "        \"\"\"\n",
    "        self.freq   = freq\n",
    "        self.amp    = amp\n",
    "        self.offset = offset\n",
    "        self.func   = func\n",
    "        \n",
    "    @property\n",
    "    def period(self):\n",
    "        return 1.0 / self.freq\n",
    "    \n",
    "    def evaluate(self, ts):\n",
    "        \"\"\"\n",
    "        Inputs\n",
    "        ------\n",
    "        ts : array-like\n",
    "            Times.\n",
    "        \"\"\"\n",
    "        phases = 2 * np.pi * self.freq * np.asarray(ts)\n",
    "        phases += self.offset\n",
    "        return self.amp * self.func(phases)"
   ]
  },
  {
   "cell_type": "code",
   "execution_count": 45,
   "metadata": {
    "collapsed": true
   },
   "outputs": [],
   "source": [
    "def CosSignal(freq=440, amp=1.0, offset=0):\n",
    "    return Sinusoid(freq, amp, offset, func=np.cos)\n",
    "\n",
    "def SinSignal(freq=440, amp=1.0, offset=0):\n",
    "    return Sinusoid(freq, amp, offset, func=np.sin)"
   ]
  },
  {
   "cell_type": "code",
   "execution_count": 46,
   "metadata": {},
   "outputs": [],
   "source": [
    "cos_sig = CosSignal(freq=440, amp=1.0, offset=0)\n",
    "sin_sig = SinSignal(freq=880, amp=0.5, offset=0)"
   ]
  },
  {
   "cell_type": "code",
   "execution_count": 47,
   "metadata": {
    "collapsed": true
   },
   "outputs": [],
   "source": [
    "mix = cos_sig + sin_sig"
   ]
  },
  {
   "cell_type": "code",
   "execution_count": 48,
   "metadata": {},
   "outputs": [
    {
     "data": {
      "image/png": "[encoded data removed]",
      "text/plain": [
       "<matplotlib.figure.Figure at 0x7efbdf37bb38>"
      ]
     },
     "metadata": {},
     "output_type": "display_data"
    }
   ],
   "source": [
    "wave = mix.make_wave(duration=0.5, start=0, framerate=11025)\n",
    "plt.plot(wave.ts, wave.ys)\n",
    "plt.show();"
   ]
  },
  {
   "cell_type": "code",
   "execution_count": 49,
   "metadata": {},
   "outputs": [
    {
     "data": {
      "image/png": "[encoded data removed]",
      "text/plain": [
       "<matplotlib.figure.Figure at 0x7efbdedaec50>"
      ]
     },
     "metadata": {},
     "output_type": "display_data"
    }
   ],
   "source": [
    "segment = wave.segment(start=0, duration=mix.period * 3)\n",
    "plt.plot(segment.ts, segment.ys)\n",
    "plt.show();"
   ]
  },
  {
   "cell_type": "code",
   "execution_count": 55,
   "metadata": {
    "collapsed": true
   },
   "outputs": [],
   "source": [
    "class SilentSignal(Signal): \n",
    "    def evaluate(self, ts):\n",
    "        return np.zeros(len(ts))\n",
    "\n",
    "class WavFileWriter: \n",
    "    def __init__(self, filename=\"sound.wav\", framerate=11025):                  \n",
    "        \"\"\" Opens the file and sets parameters.\n",
    "        \n",
    "        Inputs\n",
    "        -------\n",
    "        filename  : string \n",
    "        framerate : int\n",
    "            Samples per second.\n",
    "        \"\"\" \n",
    "        self.filename  = filename \n",
    "        self.framerate = framerate \n",
    "        self.nchannels = 1 \n",
    "        self.sampwidth = 2 \n",
    "        self.bits = self.sampwidth * 8    \n",
    "        self.bound = 2**(self.bits-1) - 1    \n",
    "        \n",
    "        self.fmt = 'h' \n",
    "        self.dtype = np.int16\n",
    "        \n",
    "        self.fp = open_wave(self.filename, 'w')\n",
    "        self.fp.setnchannels(self.nchannels)\n",
    "        self.fp.setsampwidth(self.sampwidth)\n",
    "        self.fp.setframerate(self.framerate)\n",
    "        \n",
    "    def write(self, wave):  \n",
    "        \"\"\" Writes a wave.\n",
    "        \n",
    "        Inputs\n",
    "        -------\n",
    "        wave : Wave      \n",
    "        \"\"\"   \n",
    "        zs = wave.quantize(self.bound, self.dtype)                              \n",
    "        self.fp.writeframes(zs.tostring())                                      \n",
    "                                                                                \n",
    "    def close(self, duration=0):                                                \n",
    "        \"\"\"Close wav file.\n",
    "        \n",
    "        Inputs\n",
    "        -------\n",
    "        duration : float\n",
    "            How many seconds of silence to append.                         \n",
    "        \"\"\"  \n",
    "        if duration:\n",
    "            signal = SilentSignal()\n",
    "            wave = signal.make_wave(duration)\n",
    "            self.write(wave) \n",
    "\n",
    "        self.fp.close()\n",
    "        \n",
    "def write_wave(wave, filename=\"sound.wav\"):  \n",
    "    \"\"\" Write a wave file.  \n",
    "    \n",
    "    Inputs\n",
    "    -------\n",
    "    filename : string \n",
    "    \"\"\" \n",
    "    print(\"Writing\", filename) \n",
    "    wfile = WavFileWriter(filename, wave.framerate) \n",
    "    wfile.write(wave) \n",
    "    wfile.close()\n",
    "    \n",
    "def read_wave(filename=\"sound.wav\"):                                            \n",
    "    \"\"\" Read a wave from file.\n",
    "    Inputs\n",
    "    -------\n",
    "    filename : string\n",
    "  \n",
    "    Returns\n",
    "    -------\n",
    "    Wave                                                               \n",
    "    \"\"\"    \n",
    "    fp = open_wave(filename, \"r\") \n",
    "\n",
    "    nchannels = fp.getnchannels()      \n",
    "    nframes   = fp.getnframes()\n",
    "    sampwidth = fp.getsampwidth()\n",
    "    framerate = fp.getframerate() \n",
    "\n",
    "    z_str = fp.readframes(nframes) \n",
    " \n",
    "    fp.close() \n",
    "      \n",
    "    dtype_map = {1:np.int8, 2:np.int16, 3:\"special\", 4:np.int32}  \n",
    "    if sampwidth not in dtype_map:    \n",
    "        raise ValueError(\"sampwidth {} unknown\".format(sampwidth))\n",
    "                \n",
    "    if sampwidth == 3:        \n",
    "        xs = np.fromstring(z_str, dtype=np.int8).astype(np.int32) \n",
    "        ys = (xs[2::3] * 256 + xs[1::3]) * 256 + xs[0::3]      \n",
    "    else:        \n",
    "        ys = np.fromstring(z_str, dtype=dtype_map[sampwidth]) \n",
    "\n",
    "    # if it's in stereo, just pull out the first channel    \n",
    "    if nchannels == 2:   \n",
    "        ys = ys[::2]\n",
    " \n",
    "    #ts = np.arange(len(ys)) / framerate\n",
    "    wave = Wave(ys, framerate=framerate)\n",
    "    wave.normalize()\n",
    "    return wave "
   ]
  },
  {
   "cell_type": "code",
   "execution_count": 56,
   "metadata": {},
   "outputs": [
    {
     "name": "stdout",
     "output_type": "stream",
     "text": [
      "Writing sound.wav\n",
      "Warning: normalizing before quantizing.\n"
     ]
    }
   ],
   "source": [
    "write_wave(wave)"
   ]
  },
  {
   "cell_type": "code",
   "execution_count": 60,
   "metadata": {},
   "outputs": [
    {
     "data": {
      "image/png": "[encoded data removed]",
      "text/plain": [
       "<matplotlib.figure.Figure at 0x7efbdf2f04e0>"
      ]
     },
     "metadata": {},
     "output_type": "display_data"
    }
   ],
   "source": [
    "readed = read_wave()\n",
    "readed = readed.segment(start=0, duration=mix.period * 3)\n",
    "plt.plot(readed.ts, readed.ys)\n",
    "plt.show();"
   ]
  },
  {
   "cell_type": "code",
   "execution_count": null,
   "metadata": {
    "collapsed": true
   },
   "outputs": [],
   "source": []
  }
 ],
 "metadata": {
  "kernelspec": {
   "display_name": "Python 3",
   "language": "python",
   "name": "python3"
  },
  "language_info": {
   "codemirror_mode": {
    "name": "ipython",
    "version": 3
   },
   "file_extension": ".py",
   "mimetype": "text/x-python",
   "name": "python",
   "nbconvert_exporter": "python",
   "pygments_lexer": "ipython3",
   "version": "3.6.4"
  }
 },
 "nbformat": 4,
 "nbformat_minor": 2
}
