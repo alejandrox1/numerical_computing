{
 "cells": [
  {
   "cell_type": "markdown",
   "metadata": {},
   "source": [
    "# You Will All Conform"
   ]
  },
  {
   "cell_type": "code",
   "execution_count": 1,
   "metadata": {
    "collapsed": true
   },
   "outputs": [],
   "source": [
    "from collections import Counter\n",
    "\n",
    "caps1 = ['F', 'F', 'B', 'B', 'B', 'F', 'B', 'B', 'B', 'F', 'F', 'B', 'F']\n",
    "caps2 = ['F', 'F', 'B', 'B', 'B', 'F', 'B', 'B', 'B', 'F', 'F', 'F', 'F']"
   ]
  },
  {
   "cell_type": "code",
   "execution_count": 10,
   "metadata": {
    "collapsed": true
   },
   "outputs": [],
   "source": [
    "def please_conform(caps, debug=True):\n",
    "    start     = 0\n",
    "    forward   = 0\n",
    "    backward  = 0\n",
    "    intervals = [] # Each interval is a tuple with 3 elements (start, end, type)\n",
    "    flip      = ''\n",
    "    \n",
    "    # Determine the number of intervals where caps are on in the same direction.\n",
    "    for i in range(1, len(caps)):\n",
    "        if caps[start] != caps[i]:\n",
    "            # Intervl ended in the previous position.\n",
    "            intervals.append((start, i-1, caps[start]))\n",
    "            \n",
    "            if caps[start] == 'F':\n",
    "                forward += 1\n",
    "            else:\n",
    "                backward += 1\n",
    "            start = i\n",
    "            \n",
    "    # Need to add the last interval.\n",
    "    intervals.append((start, len(caps)-1, caps[start]))\n",
    "    if caps[start] == 'F':\n",
    "        forward += 1\n",
    "    else:\n",
    "        backward += 1\n",
    "        \n",
    "    if debug == True:\n",
    "        print(\"Intervals:{}\".format(intervals))\n",
    "        print(\"Forward: {}, Backward: {}\".format(forward, backward))\n",
    "                   \n",
    "    if forward < backward:\n",
    "        flip = 'F'\n",
    "    else:\n",
    "        flip = 'B'\n",
    "                   \n",
    "    for t in intervals:\n",
    "        if t[2] == flip:\n",
    "            print(\"People in position {} through {}, flip your caps!\".format(t[0], t[1]))"
   ]
  },
  {
   "cell_type": "code",
   "execution_count": 11,
   "metadata": {},
   "outputs": [
    {
     "name": "stdout",
     "output_type": "stream",
     "text": [
      "['F', 'F', 'B', 'B', 'B', 'F', 'B', 'B', 'B', 'F', 'F', 'B', 'F']\n",
      "Counter({'B': 7, 'F': 6})\n",
      "Intervals:[(0, 1, 'F'), (2, 4, 'B'), (5, 5, 'F'), (6, 8, 'B'), (9, 10, 'F'), (11, 11, 'B'), (12, 12, 'F')]\n",
      "Forward: 4, Backward: 3\n",
      "People in position 2 through 4, flip your caps!\n",
      "People in position 6 through 8, flip your caps!\n",
      "People in position 11 through 11, flip your caps!\n"
     ]
    }
   ],
   "source": [
    "print(caps1)\n",
    "print(Counter(caps1))\n",
    "please_conform(caps1)"
   ]
  },
  {
   "cell_type": "code",
   "execution_count": null,
   "metadata": {
    "collapsed": true
   },
   "outputs": [],
   "source": []
  }
 ],
 "metadata": {
  "kernelspec": {
   "display_name": "Python 3",
   "language": "python",
   "name": "python3"
  },
  "language_info": {
   "codemirror_mode": {
    "name": "ipython",
    "version": 3
   },
   "file_extension": ".py",
   "mimetype": "text/x-python",
   "name": "python",
   "nbconvert_exporter": "python",
   "pygments_lexer": "ipython3",
   "version": "3.6.4"
  }
 },
 "nbformat": 4,
 "nbformat_minor": 2
}
