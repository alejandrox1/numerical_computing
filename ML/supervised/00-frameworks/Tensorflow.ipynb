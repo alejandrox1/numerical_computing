{
 "cells": [
  {
   "cell_type": "markdown",
   "metadata": {},
   "source": [
    "# Resources\n",
    "\n",
    "* [Learning Tensorflow](https://learningtensorflow.com/)\n",
    "\n",
    "* [Visualisation with TensorBoard](http://learningtensorflow.com/Visualisation/)"
   ]
  },
  {
   "cell_type": "code",
   "execution_count": 14,
   "metadata": {},
   "outputs": [],
   "source": [
    "import tensorflow as tf\n",
    "import numpy as np"
   ]
  },
  {
   "cell_type": "markdown",
   "metadata": {},
   "source": [
    "# Basics"
   ]
  },
  {
   "cell_type": "markdown",
   "metadata": {},
   "source": [
    "## Variables\n",
    "\n",
    "The big idea in Tensorflow is to build a computation graph and then feed it whatever data you want it to operate on.\n",
    "\n",
    "When we call `tensorflow.global_variables_initializer()`, a graph of the dependencies between variables is created. "
   ]
  },
  {
   "cell_type": "code",
   "execution_count": 12,
   "metadata": {},
   "outputs": [
    {
     "name": "stdout",
     "output_type": "stream",
     "text": [
      "<tf.Variable 'y_2:0' shape=() dtype=float32_ref>\n",
      "10.0\n"
     ]
    }
   ],
   "source": [
    "# Python\n",
    "#\n",
    "# x = 5\n",
    "# y = x + 5\n",
    "# print(y)\n",
    "\n",
    "x = tf.constant(5, dtype=tf.float32, name='x')\n",
    "y = tf.Variable(x+5, dtype=tf.float32, name='y')\n",
    "print(y)\n",
    "\n",
    "model = tf.global_variables_initializer()\n",
    "with tf.Session() as session:\n",
    "    session.run(model)\n",
    "    print(session.run(y))"
   ]
  },
  {
   "cell_type": "code",
   "execution_count": 20,
   "metadata": {},
   "outputs": [
    {
     "name": "stdout",
     "output_type": "stream",
     "text": [
      "[ 5. 10. 15.]\n"
     ]
    }
   ],
   "source": [
    "# Arrays as input to tf.constants.\n",
    "\n",
    "x = tf.constant([0, 5, 10], dtype=tf.float32, name='x')\n",
    "y = tf.Variable(x+5, dtype=tf.float32, name='y')\n",
    "\n",
    "model = tf.global_variables_initializer()\n",
    "with tf.Session() as session:\n",
    "    session.run(model)\n",
    "    print(session.run(y))"
   ]
  },
  {
   "cell_type": "code",
   "execution_count": 23,
   "metadata": {},
   "outputs": [
    {
     "name": "stdout",
     "output_type": "stream",
     "text": [
      "[1.5683923e+08 1.4924751e+07 2.0567774e+08 ... 1.9830514e+08 4.4818669e+08\n",
      " 3.8638202e+08]\n"
     ]
    }
   ],
   "source": [
    "# Numpy arrays as input to tf.constants.\n",
    "\n",
    "data = np.random.randint(0, high=10000, size=10000)\n",
    "\n",
    "x = tf.constant(data, dtype=tf.float32, name='x')                  \n",
    "y = tf.Variable((5 * x**2) - (3*x) + 15, dtype=tf.float32, name='y') \n",
    "\n",
    "model = tf.global_variables_initializer()\n",
    "with tf.Session() as session:\n",
    "    session.run(model)\n",
    "    print(session.run(y))"
   ]
  },
  {
   "cell_type": "code",
   "execution_count": 25,
   "metadata": {},
   "outputs": [
    {
     "name": "stdout",
     "output_type": "stream",
     "text": [
      "1.0\n",
      "2.0\n",
      "3.0\n",
      "4.0\n",
      "5.0\n"
     ]
    }
   ],
   "source": [
    "# Update tf.Variables in loops.\n",
    "\n",
    "x = tf.Variable(initial_value=0, dtype=tf.float32, name='x')\n",
    "\n",
    "model = tf.global_variables_initializer()\n",
    "with tf.Session() as session:\n",
    "    session.run(model)\n",
    "    for i in range(5):\n",
    "        x = x + 1\n",
    "        print(session.run(x))"
   ]
  },
  {
   "cell_type": "code",
   "execution_count": 26,
   "metadata": {},
   "outputs": [
    {
     "name": "stdout",
     "output_type": "stream",
     "text": [
      "493.98322\n"
     ]
    }
   ],
   "source": [
    "# Compute the moving average of a series of randomly generated numbers.\n",
    "\n",
    "mean = tf.Variable(initial_value=0.0, dtype=tf.float32, name='mean')\n",
    "n    = tf.Variable(initial_value=0.0, dtype=tf.float32, name='n')\n",
    "\n",
    "m = 1000\n",
    "\n",
    "model = tf.global_variables_initializer()\n",
    "with tf.Session() as session:\n",
    "    for i in range(5):\n",
    "        sum_of_rand_numbers = np.sum( np.random.randint(0, high=1000, size=m) )\n",
    "        \n",
    "        n = n + m\n",
    "        \n",
    "        mean = (mean * (n-m)/n) + (sum_of_rand_numbers/n)\n",
    "    \n",
    "    session.run(model)\n",
    "    print(session.run(mean))"
   ]
  },
  {
   "cell_type": "code",
   "execution_count": 28,
   "metadata": {},
   "outputs": [
    {
     "name": "stdout",
     "output_type": "stream",
     "text": [
      "Tensor(\"x_14:0\", shape=(), dtype=float32)\n",
      "<tf.Variable 'y_11:0' shape=() dtype=float32_ref>\n",
      "10.0\n"
     ]
    }
   ],
   "source": [
    "# Tensorboard - run: tensorboard --logdir=/tmp/basic\n",
    "\n",
    "x = tf.constant(5, dtype=tf.float32, name='x')\n",
    "print(x)\n",
    "y = tf.Variable(x+5, dtype=tf.float32, name='y')\n",
    "print(y)\n",
    "\n",
    "\n",
    "with tf.Session() as session:\n",
    "    merged = tf.summary.merge_all()\n",
    "    writer = tf.summary.FileWriter(\"/tmp/basic\", session.graph)\n",
    "    model  = tf.global_variables_initializer()\n",
    "    \n",
    "    session.run(model)\n",
    "    print(session.run(y))"
   ]
  },
  {
   "cell_type": "markdown",
   "metadata": {},
   "source": [
    "# Matrix Multiplication\n",
    "\n",
    "We will start working with `tf.placeholders` which allow us to build our computation graph and define operations without actually needing to input any data.\n",
    "\n",
    "We use `placeholders` to feed data in whenver we actually need to do any work."
   ]
  },
  {
   "cell_type": "code",
   "execution_count": null,
   "metadata": {
    "collapsed": true
   },
   "outputs": [],
   "source": [
    "v = tf.placeholder(tf.float32)\n",
    "A = tf.placeholder(tf.float32, shape=(5,5), name='A')\n",
    "\n",
    "x = tf.matmul(A, v)"
   ]
  }
 ],
 "metadata": {
  "kernelspec": {
   "display_name": "Python 3",
   "language": "python",
   "name": "python3"
  },
  "language_info": {
   "codemirror_mode": {
    "name": "ipython",
    "version": 3
   },
   "file_extension": ".py",
   "mimetype": "text/x-python",
   "name": "python",
   "nbconvert_exporter": "python",
   "pygments_lexer": "ipython3",
   "version": "3.6.4"
  }
 },
 "nbformat": 4,
 "nbformat_minor": 2
}
